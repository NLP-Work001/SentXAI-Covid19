{
 "cells": [
  {
   "cell_type": "markdown",
   "metadata": {
    "id": "FoAcUnyi_K9z"
   },
   "source": [
    "#### **Library**"
   ]
  },
  {
   "cell_type": "code",
   "execution_count": null,
   "metadata": {
    "executionInfo": {
     "elapsed": 3,
     "status": "ok",
     "timestamp": 1735706542579,
     "user": {
      "displayName": "Nhlanhla Baloyi",
      "userId": "18181450686318463916"
     },
     "user_tz": -120
    },
    "id": "WsWaB_eebpGh"
   },
   "outputs": [],
   "source": [
    "import os\n",
    "import warnings\n",
    "import pandas as pd\n",
    "import numpy as np\n",
    "from pathlib import Path\n",
    "# from google.colab import userdata\n",
    "warnings.filterwarnings('ignore')"
   ]
  },
  {
   "cell_type": "code",
   "execution_count": 10,
   "metadata": {},
   "outputs": [
    {
     "data": {
      "text/plain": [
       "[100, 350, 600, 850]"
      ]
     },
     "execution_count": 10,
     "metadata": {},
     "output_type": "execute_result"
    }
   ],
   "source": [
    "[c for c in range(100, 1000, 250)]"
   ]
  },
  {
   "cell_type": "code",
   "execution_count": 14,
   "metadata": {},
   "outputs": [
    {
     "data": {
      "text/plain": [
       "[0.01, 0.67, 1.34, 2.0]"
      ]
     },
     "execution_count": 14,
     "metadata": {},
     "output_type": "execute_result"
    }
   ],
   "source": [
    "[round(c, 2) for c in np.linspace(0.01, 2, 4)]\n",
    "# [c for c in range(10, 200, 30)]"
   ]
  },
  {
   "cell_type": "markdown",
   "metadata": {
    "id": "eYGXOJ9O_K90"
   },
   "source": [
    "#### **Load Dataset**"
   ]
  },
  {
   "cell_type": "code",
   "execution_count": 2,
   "metadata": {
    "colab": {
     "base_uri": "https://localhost:8080/",
     "height": 206
    },
    "executionInfo": {
     "elapsed": 495,
     "status": "ok",
     "timestamp": 1735706552636,
     "user": {
      "displayName": "Nhlanhla Baloyi",
      "userId": "18181450686318463916"
     },
     "user_tz": -120
    },
    "id": "dEAAzfNJBaf6",
    "outputId": "d933096b-7de7-4207-fa77-1fde0608e004"
   },
   "outputs": [
    {
     "data": {
      "text/html": [
       "<div>\n",
       "<style scoped>\n",
       "    .dataframe tbody tr th:only-of-type {\n",
       "        vertical-align: middle;\n",
       "    }\n",
       "\n",
       "    .dataframe tbody tr th {\n",
       "        vertical-align: top;\n",
       "    }\n",
       "\n",
       "    .dataframe thead th {\n",
       "        text-align: right;\n",
       "    }\n",
       "</style>\n",
       "<table border=\"1\" class=\"dataframe\">\n",
       "  <thead>\n",
       "    <tr style=\"text-align: right;\">\n",
       "      <th></th>\n",
       "      <th>text</th>\n",
       "      <th>sentiment</th>\n",
       "    </tr>\n",
       "  </thead>\n",
       "  <tbody>\n",
       "    <tr>\n",
       "      <th>0</th>\n",
       "      <td>latest driver country gas price drop amid</td>\n",
       "      <td>negative</td>\n",
       "    </tr>\n",
       "    <tr>\n",
       "      <th>1</th>\n",
       "      <td>difficult time moment stockpile panic buy buy normal plenty food essential supply thinkofothers especially elderly dontbeselfish</td>\n",
       "      <td>positive</td>\n",
       "    </tr>\n",
       "    <tr>\n",
       "      <th>2</th>\n",
       "      <td>buy gift certificate online shopping time local business alive book book</td>\n",
       "      <td>positive</td>\n",
       "    </tr>\n",
       "    <tr>\n",
       "      <th>3</th>\n",
       "      <td>rental price fall time decade realestate investment</td>\n",
       "      <td>neutral</td>\n",
       "    </tr>\n",
       "    <tr>\n",
       "      <th>4</th>\n",
       "      <td>rotorua shopper wear beekeeping suit supermarket</td>\n",
       "      <td>neutral</td>\n",
       "    </tr>\n",
       "  </tbody>\n",
       "</table>\n",
       "</div>"
      ],
      "text/plain": [
       "                                                                                                                               text  \\\n",
       "0                                                                                         latest driver country gas price drop amid   \n",
       "1  difficult time moment stockpile panic buy buy normal plenty food essential supply thinkofothers especially elderly dontbeselfish   \n",
       "2                                                          buy gift certificate online shopping time local business alive book book   \n",
       "3                                                                               rental price fall time decade realestate investment   \n",
       "4                                                                                  rotorua shopper wear beekeeping suit supermarket   \n",
       "\n",
       "  sentiment  \n",
       "0  negative  \n",
       "1  positive  \n",
       "2  positive  \n",
       "3   neutral  \n",
       "4   neutral  "
      ]
     },
     "execution_count": 2,
     "metadata": {},
     "output_type": "execute_result"
    }
   ],
   "source": [
    "# File paths\n",
    "PATH = Path(os.path.abspath(\"..\")) / \"data/processed\"\n",
    "FILE_PATH = os.path.join(PATH, \"covid19_tweets.csv\")\n",
    "\n",
    "# Load processed dataset\n",
    "pd.set_option(\"display.max_colwidth\", None)\n",
    "\n",
    "df = pd.read_csv(FILE_PATH) \\\n",
    "    .dropna() \\\n",
    "    .reset_index(drop=True) \\\n",
    "    .drop(\"tweet\", axis=1)\n",
    "\n",
    "df.head()"
   ]
  },
  {
   "cell_type": "markdown",
   "metadata": {
    "id": "B8xbuVyO_K96"
   },
   "source": [
    "#### **Train & Test Split**"
   ]
  },
  {
   "cell_type": "code",
   "execution_count": 3,
   "metadata": {
    "executionInfo": {
     "elapsed": 470,
     "status": "ok",
     "timestamp": 1735706557362,
     "user": {
      "displayName": "Nhlanhla Baloyi",
      "userId": "18181450686318463916"
     },
     "user_tz": -120
    },
    "id": "DnJHN6_H_K96"
   },
   "outputs": [],
   "source": [
    "from sklearn.preprocessing import LabelEncoder\n",
    "from sklearn.model_selection import train_test_split\n",
    "\n",
    "def split_data(df, test_size=0.2, random_state=43):\n",
    "\n",
    "    X_all = df[[\"text\"]]\n",
    "    y_all = df[[\"sentiment\"]]\n",
    "\n",
    "    X_train, X_test, y_train, y_test = train_test_split(\n",
    "        X_all, y_all, test_size=test_size, random_state=random_state, stratify=y_all\n",
    "    )\n",
    "\n",
    "    return X_train, X_test, y_train, y_test\n",
    "\n",
    "X_train, X_test, y_train, y_test = split_data(df)"
   ]
  },
  {
   "cell_type": "code",
   "execution_count": 4,
   "metadata": {
    "id": "1ImAFEK_6Ncn"
   },
   "outputs": [],
   "source": [
    "# Load split data\n",
    "train_ = pd.concat([X_train, y_train], axis=1).reset_index(drop=True)\n",
    "test_ = pd.concat([X_test, y_test], axis=1).reset_index(drop=True)\n",
    "\n",
    "train_.to_csv(\"../data/splits/train.csv\", index=False)\n",
    "test_.to_csv(\"../data/splits/test.csv\", index=False)"
   ]
  },
  {
   "cell_type": "markdown",
   "metadata": {
    "id": "n541csP7_K96"
   },
   "source": [
    "#### **Model Development & Selection**"
   ]
  },
  {
   "cell_type": "code",
   "execution_count": 281,
   "metadata": {},
   "outputs": [],
   "source": [
    "# Load train/test split data\n",
    "def load_train_split(file_name: str) -> pd.DataFrame:\n",
    "    \"\"\" Load train/test dataset from splits folder.\n",
    "    params: File path\n",
    "    returns: pandas dataframe\n",
    "    \"\"\"\n",
    "    PATH = Path(os.path.abspath(\"..\")) / \"data/splits\"\n",
    "    FILE_PATH = os.path.join(PATH, file_name)\n",
    "    df = pd.read_csv(FILE_PATH)\n",
    "    return df\n",
    "\n",
    "# Load training dataset for model training\n",
    "dataset = load_train_split(\"train.csv\")\n",
    "\n",
    "X_all= dataset[[\"text\"]]\n",
    "y_all = dataset[[\"sentiment\"]]"
   ]
  },
  {
   "cell_type": "code",
   "execution_count": null,
   "metadata": {
    "id": "9qt32H9dtb56"
   },
   "outputs": [],
   "source": [
    "from tqdm import tqdm\n",
    "from sklearn.base import BaseEstimator\n",
    "from sklearn.pipeline import make_pipeline\n",
    "from sklearn.compose import make_column_transformer\n",
    "from sklearn.feature_extraction.text import TfidfVectorizer\n",
    "from sklearn.metrics import f1_score, roc_auc_score\n",
    "\n",
    "# ML: Algorithms\n",
    "from sklearn.svm import SVC\n",
    "from sklearn.naive_bayes import MultinomialNB\n",
    "from sklearn.tree import DecisionTreeClassifier\n",
    "from sklearn.neighbors import KNeighborsClassifier\n",
    "from sklearn.linear_model import LogisticRegression\n",
    "from sklearn.ensemble import RandomForestClassifier\n",
    "\n",
    "from sklearn.model_selection import StratifiedKFold, GridSearchCV\n",
    "from sklearn.preprocessing import LabelEncoder"
   ]
  },
  {
   "cell_type": "code",
   "execution_count": 283,
   "metadata": {
    "id": "ifi9GdaaXOOd"
   },
   "outputs": [],
   "source": [
    "# Calculate model metrics and output as a dictionary of those metrics\n",
    "def calculate_model_metrics(model: BaseEstimator, X_values: pd.DataFrame, y_true: list) -> dict:\n",
    "\n",
    "    f1 = f1_score(y_true, model.predict(X_values), average=\"weighted\")\n",
    "    roc_auc =  roc_auc_score(y_true, model.predict_proba(X_values),  average=\"weighted\", multi_class=\"ovo\")\n",
    "\n",
    "    metrics = dict(f1=np.round(f1, 2), roc_auc=np.round(roc_auc, 2))\n",
    "    return metrics"
   ]
  },
  {
   "cell_type": "code",
   "execution_count": 284,
   "metadata": {
    "colab": {
     "base_uri": "https://localhost:8080/"
    },
    "executionInfo": {
     "elapsed": 814318,
     "status": "ok",
     "timestamp": 1735260070015,
     "user": {
      "displayName": "Nhlanhla Baloyi",
      "userId": "18181450686318463916"
     },
     "user_tz": -120
    },
    "id": "cmtn7c1JI-BF",
    "outputId": "f0b8aff8-8e35-4cb9-c219-cd4a0d575f1c"
   },
   "outputs": [],
   "source": [
    "import time\n",
    "from datetime import timedelta\n",
    "\n",
    "# TFIDf token function\n",
    "def word_processor(doc: str):\n",
    "    return doc\n",
    "\n",
    "def calculate_average_cv(metrics:list, alias=\"train\") -> dict:\n",
    "    \"\"\"Calculates the average cross-validation scores.\n",
    "    params: metrics - list of cv metrics\n",
    "    returns: average cv scores\n",
    "    \"\"\"\n",
    "    keys = list(next(iter(metrics)))\n",
    "    values = [list(score.values()) for score in metrics]\n",
    "    score_avg = np.mean(values, axis=0)\n",
    "    cv_metrics = {f\"{alias}_{n}\": np.round(v, 2) for n, v in zip(keys, score_avg)}\n",
    "    cv_scores = {f\"{alias}_avg\": np.round(np.mean(score_avg), 2), **cv_metrics}\n",
    "    \n",
    "    return cv_scores \n",
    "\n",
    "\n",
    "def cross_validation_func(baseline: BaseEstimator, X: pd.DataFrame, y: pd.DataFrame) -> dict:\n",
    "    \n",
    "    label_encoding = LabelEncoder()\n",
    "    y_all_ = label_encoding.fit_transform(y)\n",
    "\n",
    "    # pipeline Implementation\n",
    "    vect = TfidfVectorizer(\n",
    "        analyzer=\"word\",\n",
    "        tokenizer=word_processor,\n",
    "        preprocessor=word_processor\n",
    "    )\n",
    "\n",
    "    ct = make_column_transformer((vect, \"text\"), remainder=\"drop\")\n",
    "    pipeline = make_pipeline(ct, baseline)\n",
    "\n",
    "    # Cross-Validation\n",
    "    cv = StratifiedKFold(n_splits=5, shuffle=True, random_state=43)\n",
    "\n",
    "    train_scores = []\n",
    "    val_scores = []\n",
    "    time_start = time.time()\n",
    "    time_lapsed = None\n",
    "\n",
    "    for idx, (train_idx, val_idx) in tqdm(enumerate(cv.split(X, y_all))):\n",
    "\n",
    "        print(\" Iteration Count:\", idx+1)\n",
    "        X_train_fold, X_val_fold = X.iloc[train_idx], X.iloc[val_idx]\n",
    "        y_train_fold, y_val_fold = y_all_[train_idx], y_all_[val_idx]\n",
    "\n",
    "        pipeline.fit(X_train_fold, y_train_fold)\n",
    "\n",
    "        train_score = calculate_model_metrics(pipeline, X_train_fold, y_train_fold)\n",
    "        val_score = calculate_model_metrics(pipeline, X_val_fold, y_val_fold)\n",
    "        \n",
    "        train_scores.append(train_score)\n",
    "        val_scores.append(val_score)\n",
    "        time_lapsed = time.time() - time_start\n",
    "\n",
    "    # Training time-lapsed\n",
    "    seconds = np.round(time_lapsed)\n",
    "    total_time = str(timedelta(seconds=seconds))\n",
    "\n",
    "    # Cross-validated metric scores\n",
    "    training_score = calculate_average_cv(train_scores)\n",
    "    validation_score = calculate_average_cv(val_scores, \"val\")\n",
    "    metric_scores = dict(**training_score, **validation_score, time_lapsed=total_time)\n",
    "    \n",
    "    return metric_scores"
   ]
  },
  {
   "cell_type": "code",
   "execution_count": 285,
   "metadata": {},
   "outputs": [
    {
     "name": "stderr",
     "output_type": "stream",
     "text": [
      "0it [00:00, ?it/s]"
     ]
    },
    {
     "name": "stdout",
     "output_type": "stream",
     "text": [
      " Iteration Count: 1\n"
     ]
    },
    {
     "name": "stderr",
     "output_type": "stream",
     "text": [
      "1it [00:04,  4.20s/it]"
     ]
    },
    {
     "name": "stdout",
     "output_type": "stream",
     "text": [
      " Iteration Count: 2\n"
     ]
    },
    {
     "name": "stderr",
     "output_type": "stream",
     "text": [
      "2it [00:07,  3.95s/it]"
     ]
    },
    {
     "name": "stdout",
     "output_type": "stream",
     "text": [
      " Iteration Count: 3\n"
     ]
    },
    {
     "name": "stderr",
     "output_type": "stream",
     "text": [
      "3it [00:11,  3.80s/it]"
     ]
    },
    {
     "name": "stdout",
     "output_type": "stream",
     "text": [
      " Iteration Count: 4\n"
     ]
    },
    {
     "name": "stderr",
     "output_type": "stream",
     "text": [
      "4it [00:14,  3.63s/it]"
     ]
    },
    {
     "name": "stdout",
     "output_type": "stream",
     "text": [
      " Iteration Count: 5\n"
     ]
    },
    {
     "name": "stderr",
     "output_type": "stream",
     "text": [
      "5it [00:18,  3.71s/it]\n"
     ]
    }
   ],
   "source": [
    "baseline = DecisionTreeClassifier(random_state=43)\n",
    "knn_scores = cross_validation_func(baseline, X_all, y_all)"
   ]
  },
  {
   "cell_type": "code",
   "execution_count": null,
   "metadata": {},
   "outputs": [],
   "source": [
    "from matplotlib import pyplot as plt\n",
    "import seaborn as sns\n",
    "\n",
    "# Barplots for metric comparisons\n",
    "def plot_cv_scores(scores: dict) -> None:\n",
    "    \n",
    "    filter_metric = [\n",
    "        (c.split('_')[0], \"_\".join(c.split(\"_\")[1:]), k)\n",
    "        if len(c.split('_')) > 2 else (*c.split('_'), k) \n",
    "        for c, k in scores.items() if \"time\" not in c\n",
    "    ]\n",
    "\n",
    "    cols = [\"cv\", \"x\", \"y\"]\n",
    "    metric_df = pd.DataFrame(filter_metric, columns=cols) \\\n",
    "            .sort_values(\"x\", ascending=False)\n",
    "\n",
    "    # Seaborn plot\n",
    "    _, ax = plt.subplots(figsize=(10, 4))\n",
    "    plt.style.use(\"ggplot\")\n",
    "    \n",
    "    sns.barplot(metric_df, x=\"x\", y=\"y\", width=0.5, hue=\"cv\", palette=\"colorblind\", ax=ax)\n",
    "    # Axis Labels and Title\n",
    "    ax.set_title(\"cross validation metrics\", fontsize=12, alpha=0.8)\n",
    "    ax.set_ylabel(\"score\", fontsize=12)\n",
    "    ax.set_xlabel(\"\")\n",
    "    plt.legend(title=\"\")\n",
    "\n",
    "    ax.grid(axis=\"y\", linestyle=\"--\", alpha=0.7)\n",
    "\n",
    "    plt.tight_layout()\n",
    "    plt.show()"
   ]
  },
  {
   "cell_type": "code",
   "execution_count": 288,
   "metadata": {},
   "outputs": [
    {
     "data": {
      "text/plain": [
       "{'train_avg': 1.0,\n",
       " 'train_f1': 1.0,\n",
       " 'train_roc_auc': 1.0,\n",
       " 'val_avg': 0.49,\n",
       " 'val_f1': 0.42,\n",
       " 'val_roc_auc': 0.55,\n",
       " 'time_lapsed': '0:00:19'}"
      ]
     },
     "execution_count": 288,
     "metadata": {},
     "output_type": "execute_result"
    }
   ],
   "source": [
    "knn_scores"
   ]
  },
  {
   "cell_type": "code",
   "execution_count": 289,
   "metadata": {},
   "outputs": [
    {
     "data": {
      "image/png": "[encoded data removed]",
      "text/plain": [
       "<Figure size 1000x400 with 1 Axes>"
      ]
     },
     "metadata": {},
     "output_type": "display_data"
    }
   ],
   "source": [
    "plot_cv_scores(knn_scores)"
   ]
  },
  {
   "cell_type": "code",
   "execution_count": null,
   "metadata": {
    "id": "T0iNIFr1v4BG"
   },
   "outputs": [],
   "source": [
    "# ToDo: Interpret the results (Does the model generalize well on unseen data?)"
   ]
  },
  {
   "cell_type": "markdown",
   "metadata": {},
   "source": [
    "#### **Hyper-Optimizer**"
   ]
  },
  {
   "cell_type": "code",
   "execution_count": null,
   "metadata": {
    "id": "7vdGPEqAmJyY"
   },
   "outputs": [],
   "source": [
    "from sklearn.model_selection import GridSearchCV, StratifiedKFold\n",
    "\n",
    "\n",
    "def hyper_optimizer(baseline: BaseEstimator, parameters: dict, cv_splits=3) -> pd.DataFrame:\n",
    "    \n",
    "    # pipeline Implementation\n",
    "    vect = TfidfVectorizer(\n",
    "        ngram_range=(1,1),\n",
    "        norm=\"l2\",\n",
    "        analyzer=\"word\",\n",
    "        tokenizer=word_processor,\n",
    "        preprocessor=word_processor\n",
    "    )\n",
    "    ct = make_column_transformer((vect, \"text\"), remainder=\"drop\")\n",
    "    pipeline = make_pipeline(ct, baseline)\n",
    "\n",
    "    # Define KFlod \n",
    "    cv = StratifiedKFold(n_splits=cv_splits, shuffle=True, random_state=43)\n",
    "    \n",
    "    # Model pipeline parameters \n",
    "    max_ngram = 4\n",
    "    min_ngram = 1\n",
    "    ngram_ranges = [\n",
    "        (i,j) for i in range(min_ngram, max_ngram + 1) \n",
    "        for j in range(min_ngram, max_ngram + 1)]\n",
    "    \n",
    "    params = [{\"columntransformer__tfidfvectorizer__ngram_range\": ngram_ranges,\n",
    "            \"columntransformer__tfidfvectorizer__norm\": [\"l1\", \"l2\"]}, parameters]\n",
    "\n",
    "    # Label Encoding\n",
    "    label_encoding = LabelEncoder()\n",
    "    y_all_ = label_encoding.fit_transform(y_all)\n",
    "\n",
    "    # All pipeline paramters\n",
    "    model_params = {\n",
    "        \"cv\": cv,\n",
    "        \"n_jobs\": -1,\n",
    "        \"verbose\": 1,\n",
    "        \"param_grid\": params,\n",
    "        \"refit\": \"roc_auc_ovo\",\n",
    "        \"scoring\": (\"f1_weighted\", \"roc_auc_ovo\"),\n",
    "    }\n",
    "\n",
    "    # Parameter optimization\n",
    "    cv_pipe = GridSearchCV(pipeline, **model_params) \\\n",
    "        .fit(X_all, y_all_)\n",
    "\n",
    "    selected_cols = [\n",
    "        \"params\", \n",
    "        \"mean_test_f1_weighted\", \n",
    "        \"mean_test_roc_auc_ovo\",\n",
    "        \"rank_test_roc_auc_ovo\"\n",
    "    ]\n",
    "    \n",
    "    pd.set_option(\"display.max_colwidth\", None)\n",
    "    cv_result_df = pd.DataFrame(cv_pipe.cv_results_)[selected_cols]\n",
    "    cv_result_df = cv_result_df.sort_values(\"rank_test_roc_auc_ovo\")\n",
    "    \n",
    "    return cv_result_df\n"
   ]
  },
  {
   "cell_type": "code",
   "execution_count": null,
   "metadata": {},
   "outputs": [
    {
     "name": "stdout",
     "output_type": "stream",
     "text": [
      "Fitting 3 folds for each of 50 candidates, totalling 150 fits\n"
     ]
    }
   ],
   "source": [
    "params = {\n",
    "    \"decisiontreeclassifier__criterion\": [\"gini\", \"entropy\", \"log_loss\"],\n",
    "    \"decisiontreeclassifier__max_depth\": [10, 50, 100, 500, 1000],\n",
    "    \"decisiontreeclassifier__max_features\": [\"sqrt\", \"log2\"]\n",
    "}\n",
    "\n",
    "tune_results = hyper_optimizer(baseline, params)"
   ]
  },
  {
   "cell_type": "code",
   "execution_count": 25,
   "metadata": {},
   "outputs": [
    {
     "data": {
      "text/html": [
       "<div>\n",
       "<style scoped>\n",
       "    .dataframe tbody tr th:only-of-type {\n",
       "        vertical-align: middle;\n",
       "    }\n",
       "\n",
       "    .dataframe tbody tr th {\n",
       "        vertical-align: top;\n",
       "    }\n",
       "\n",
       "    .dataframe thead th {\n",
       "        text-align: right;\n",
       "    }\n",
       "</style>\n",
       "<table border=\"1\" class=\"dataframe\">\n",
       "  <thead>\n",
       "    <tr style=\"text-align: right;\">\n",
       "      <th></th>\n",
       "      <th>params</th>\n",
       "      <th>mean_test_f1_weighted</th>\n",
       "      <th>mean_test_roc_auc_ovo</th>\n",
       "      <th>rank_test_roc_auc_ovo</th>\n",
       "    </tr>\n",
       "  </thead>\n",
       "  <tbody>\n",
       "    <tr>\n",
       "      <th>18</th>\n",
       "      <td>{'columntransformer__tfidfvectorizer__ngram_range': (4, 4), 'columntransformer__tfidfvectorizer__norm': 'l1'}</td>\n",
       "      <td>0.484578</td>\n",
       "      <td>0.590644</td>\n",
       "      <td>1</td>\n",
       "    </tr>\n",
       "    <tr>\n",
       "      <th>19</th>\n",
       "      <td>{'columntransformer__tfidfvectorizer__ngram_range': (4, 4), 'columntransformer__tfidfvectorizer__norm': 'l2'}</td>\n",
       "      <td>0.482392</td>\n",
       "      <td>0.585425</td>\n",
       "      <td>2</td>\n",
       "    </tr>\n",
       "    <tr>\n",
       "      <th>17</th>\n",
       "      <td>{'columntransformer__tfidfvectorizer__ngram_range': (3, 4), 'columntransformer__tfidfvectorizer__norm': 'l2'}</td>\n",
       "      <td>0.466723</td>\n",
       "      <td>0.579886</td>\n",
       "      <td>3</td>\n",
       "    </tr>\n",
       "    <tr>\n",
       "      <th>11</th>\n",
       "      <td>{'columntransformer__tfidfvectorizer__ngram_range': (3, 3), 'columntransformer__tfidfvectorizer__norm': 'l2'}</td>\n",
       "      <td>0.459877</td>\n",
       "      <td>0.571032</td>\n",
       "      <td>4</td>\n",
       "    </tr>\n",
       "    <tr>\n",
       "      <th>16</th>\n",
       "      <td>{'columntransformer__tfidfvectorizer__ngram_range': (3, 4), 'columntransformer__tfidfvectorizer__norm': 'l1'}</td>\n",
       "      <td>0.465304</td>\n",
       "      <td>0.570773</td>\n",
       "      <td>5</td>\n",
       "    </tr>\n",
       "    <tr>\n",
       "      <th>7</th>\n",
       "      <td>{'columntransformer__tfidfvectorizer__ngram_range': (1, 3), 'columntransformer__tfidfvectorizer__norm': 'l2'}</td>\n",
       "      <td>0.447828</td>\n",
       "      <td>0.569176</td>\n",
       "      <td>6</td>\n",
       "    </tr>\n",
       "    <tr>\n",
       "      <th>14</th>\n",
       "      <td>{'columntransformer__tfidfvectorizer__ngram_range': (2, 4), 'columntransformer__tfidfvectorizer__norm': 'l1'}</td>\n",
       "      <td>0.457097</td>\n",
       "      <td>0.568067</td>\n",
       "      <td>7</td>\n",
       "    </tr>\n",
       "    <tr>\n",
       "      <th>10</th>\n",
       "      <td>{'columntransformer__tfidfvectorizer__ngram_range': (3, 3), 'columntransformer__tfidfvectorizer__norm': 'l1'}</td>\n",
       "      <td>0.439609</td>\n",
       "      <td>0.562997</td>\n",
       "      <td>8</td>\n",
       "    </tr>\n",
       "    <tr>\n",
       "      <th>15</th>\n",
       "      <td>{'columntransformer__tfidfvectorizer__ngram_range': (2, 4), 'columntransformer__tfidfvectorizer__norm': 'l2'}</td>\n",
       "      <td>0.443156</td>\n",
       "      <td>0.561698</td>\n",
       "      <td>9</td>\n",
       "    </tr>\n",
       "    <tr>\n",
       "      <th>6</th>\n",
       "      <td>{'columntransformer__tfidfvectorizer__ngram_range': (1, 3), 'columntransformer__tfidfvectorizer__norm': 'l1'}</td>\n",
       "      <td>0.444993</td>\n",
       "      <td>0.560520</td>\n",
       "      <td>10</td>\n",
       "    </tr>\n",
       "    <tr>\n",
       "      <th>13</th>\n",
       "      <td>{'columntransformer__tfidfvectorizer__ngram_range': (1, 4), 'columntransformer__tfidfvectorizer__norm': 'l2'}</td>\n",
       "      <td>0.450424</td>\n",
       "      <td>0.557488</td>\n",
       "      <td>11</td>\n",
       "    </tr>\n",
       "    <tr>\n",
       "      <th>12</th>\n",
       "      <td>{'columntransformer__tfidfvectorizer__ngram_range': (1, 4), 'columntransformer__tfidfvectorizer__norm': 'l1'}</td>\n",
       "      <td>0.447065</td>\n",
       "      <td>0.556966</td>\n",
       "      <td>12</td>\n",
       "    </tr>\n",
       "    <tr>\n",
       "      <th>8</th>\n",
       "      <td>{'columntransformer__tfidfvectorizer__ngram_range': (2, 3), 'columntransformer__tfidfvectorizer__norm': 'l1'}</td>\n",
       "      <td>0.440021</td>\n",
       "      <td>0.556430</td>\n",
       "      <td>13</td>\n",
       "    </tr>\n",
       "    <tr>\n",
       "      <th>9</th>\n",
       "      <td>{'columntransformer__tfidfvectorizer__ngram_range': (2, 3), 'columntransformer__tfidfvectorizer__norm': 'l2'}</td>\n",
       "      <td>0.444928</td>\n",
       "      <td>0.553994</td>\n",
       "      <td>14</td>\n",
       "    </tr>\n",
       "    <tr>\n",
       "      <th>3</th>\n",
       "      <td>{'columntransformer__tfidfvectorizer__ngram_range': (1, 2), 'columntransformer__tfidfvectorizer__norm': 'l2'}</td>\n",
       "      <td>0.416772</td>\n",
       "      <td>0.538014</td>\n",
       "      <td>15</td>\n",
       "    </tr>\n",
       "    <tr>\n",
       "      <th>5</th>\n",
       "      <td>{'columntransformer__tfidfvectorizer__ngram_range': (2, 2), 'columntransformer__tfidfvectorizer__norm': 'l2'}</td>\n",
       "      <td>0.417450</td>\n",
       "      <td>0.537159</td>\n",
       "      <td>16</td>\n",
       "    </tr>\n",
       "    <tr>\n",
       "      <th>1</th>\n",
       "      <td>{'columntransformer__tfidfvectorizer__ngram_range': (1, 1), 'columntransformer__tfidfvectorizer__norm': 'l2'}</td>\n",
       "      <td>0.408274</td>\n",
       "      <td>0.537050</td>\n",
       "      <td>17</td>\n",
       "    </tr>\n",
       "    <tr>\n",
       "      <th>2</th>\n",
       "      <td>{'columntransformer__tfidfvectorizer__ngram_range': (1, 2), 'columntransformer__tfidfvectorizer__norm': 'l1'}</td>\n",
       "      <td>0.412865</td>\n",
       "      <td>0.535207</td>\n",
       "      <td>18</td>\n",
       "    </tr>\n",
       "    <tr>\n",
       "      <th>30</th>\n",
       "      <td>{'decisiontreeclassifier__criterion': 'entropy', 'decisiontreeclassifier__max_depth': 10, 'decisiontreeclassifier__max_features': 'sqrt'}</td>\n",
       "      <td>0.398798</td>\n",
       "      <td>0.531085</td>\n",
       "      <td>19</td>\n",
       "    </tr>\n",
       "    <tr>\n",
       "      <th>40</th>\n",
       "      <td>{'decisiontreeclassifier__criterion': 'log_loss', 'decisiontreeclassifier__max_depth': 10, 'decisiontreeclassifier__max_features': 'sqrt'}</td>\n",
       "      <td>0.398798</td>\n",
       "      <td>0.531085</td>\n",
       "      <td>19</td>\n",
       "    </tr>\n",
       "    <tr>\n",
       "      <th>41</th>\n",
       "      <td>{'decisiontreeclassifier__criterion': 'log_loss', 'decisiontreeclassifier__max_depth': 10, 'decisiontreeclassifier__max_features': 'log2'}</td>\n",
       "      <td>0.399616</td>\n",
       "      <td>0.530714</td>\n",
       "      <td>21</td>\n",
       "    </tr>\n",
       "    <tr>\n",
       "      <th>31</th>\n",
       "      <td>{'decisiontreeclassifier__criterion': 'entropy', 'decisiontreeclassifier__max_depth': 10, 'decisiontreeclassifier__max_features': 'log2'}</td>\n",
       "      <td>0.399616</td>\n",
       "      <td>0.530714</td>\n",
       "      <td>21</td>\n",
       "    </tr>\n",
       "    <tr>\n",
       "      <th>21</th>\n",
       "      <td>{'decisiontreeclassifier__criterion': 'gini', 'decisiontreeclassifier__max_depth': 10, 'decisiontreeclassifier__max_features': 'log2'}</td>\n",
       "      <td>0.419010</td>\n",
       "      <td>0.529972</td>\n",
       "      <td>23</td>\n",
       "    </tr>\n",
       "    <tr>\n",
       "      <th>44</th>\n",
       "      <td>{'decisiontreeclassifier__criterion': 'log_loss', 'decisiontreeclassifier__max_depth': 100, 'decisiontreeclassifier__max_features': 'sqrt'}</td>\n",
       "      <td>0.398060</td>\n",
       "      <td>0.528725</td>\n",
       "      <td>24</td>\n",
       "    </tr>\n",
       "    <tr>\n",
       "      <th>38</th>\n",
       "      <td>{'decisiontreeclassifier__criterion': 'entropy', 'decisiontreeclassifier__max_depth': 1000, 'decisiontreeclassifier__max_features': 'sqrt'}</td>\n",
       "      <td>0.398060</td>\n",
       "      <td>0.528725</td>\n",
       "      <td>24</td>\n",
       "    </tr>\n",
       "    <tr>\n",
       "      <th>36</th>\n",
       "      <td>{'decisiontreeclassifier__criterion': 'entropy', 'decisiontreeclassifier__max_depth': 500, 'decisiontreeclassifier__max_features': 'sqrt'}</td>\n",
       "      <td>0.398060</td>\n",
       "      <td>0.528725</td>\n",
       "      <td>24</td>\n",
       "    </tr>\n",
       "    <tr>\n",
       "      <th>46</th>\n",
       "      <td>{'decisiontreeclassifier__criterion': 'log_loss', 'decisiontreeclassifier__max_depth': 500, 'decisiontreeclassifier__max_features': 'sqrt'}</td>\n",
       "      <td>0.398060</td>\n",
       "      <td>0.528725</td>\n",
       "      <td>24</td>\n",
       "    </tr>\n",
       "    <tr>\n",
       "      <th>34</th>\n",
       "      <td>{'decisiontreeclassifier__criterion': 'entropy', 'decisiontreeclassifier__max_depth': 100, 'decisiontreeclassifier__max_features': 'sqrt'}</td>\n",
       "      <td>0.398060</td>\n",
       "      <td>0.528725</td>\n",
       "      <td>24</td>\n",
       "    </tr>\n",
       "    <tr>\n",
       "      <th>32</th>\n",
       "      <td>{'decisiontreeclassifier__criterion': 'entropy', 'decisiontreeclassifier__max_depth': 50, 'decisiontreeclassifier__max_features': 'sqrt'}</td>\n",
       "      <td>0.398060</td>\n",
       "      <td>0.528725</td>\n",
       "      <td>24</td>\n",
       "    </tr>\n",
       "    <tr>\n",
       "      <th>42</th>\n",
       "      <td>{'decisiontreeclassifier__criterion': 'log_loss', 'decisiontreeclassifier__max_depth': 50, 'decisiontreeclassifier__max_features': 'sqrt'}</td>\n",
       "      <td>0.398060</td>\n",
       "      <td>0.528725</td>\n",
       "      <td>24</td>\n",
       "    </tr>\n",
       "    <tr>\n",
       "      <th>48</th>\n",
       "      <td>{'decisiontreeclassifier__criterion': 'log_loss', 'decisiontreeclassifier__max_depth': 1000, 'decisiontreeclassifier__max_features': 'sqrt'}</td>\n",
       "      <td>0.398060</td>\n",
       "      <td>0.528725</td>\n",
       "      <td>24</td>\n",
       "    </tr>\n",
       "    <tr>\n",
       "      <th>20</th>\n",
       "      <td>{'decisiontreeclassifier__criterion': 'gini', 'decisiontreeclassifier__max_depth': 10, 'decisiontreeclassifier__max_features': 'sqrt'}</td>\n",
       "      <td>0.416727</td>\n",
       "      <td>0.527175</td>\n",
       "      <td>32</td>\n",
       "    </tr>\n",
       "    <tr>\n",
       "      <th>4</th>\n",
       "      <td>{'columntransformer__tfidfvectorizer__ngram_range': (2, 2), 'columntransformer__tfidfvectorizer__norm': 'l1'}</td>\n",
       "      <td>0.401967</td>\n",
       "      <td>0.526187</td>\n",
       "      <td>33</td>\n",
       "    </tr>\n",
       "    <tr>\n",
       "      <th>27</th>\n",
       "      <td>{'decisiontreeclassifier__criterion': 'gini', 'decisiontreeclassifier__max_depth': 500, 'decisiontreeclassifier__max_features': 'log2'}</td>\n",
       "      <td>0.396911</td>\n",
       "      <td>0.525678</td>\n",
       "      <td>34</td>\n",
       "    </tr>\n",
       "    <tr>\n",
       "      <th>25</th>\n",
       "      <td>{'decisiontreeclassifier__criterion': 'gini', 'decisiontreeclassifier__max_depth': 100, 'decisiontreeclassifier__max_features': 'log2'}</td>\n",
       "      <td>0.396911</td>\n",
       "      <td>0.525678</td>\n",
       "      <td>34</td>\n",
       "    </tr>\n",
       "    <tr>\n",
       "      <th>23</th>\n",
       "      <td>{'decisiontreeclassifier__criterion': 'gini', 'decisiontreeclassifier__max_depth': 50, 'decisiontreeclassifier__max_features': 'log2'}</td>\n",
       "      <td>0.396911</td>\n",
       "      <td>0.525678</td>\n",
       "      <td>34</td>\n",
       "    </tr>\n",
       "    <tr>\n",
       "      <th>29</th>\n",
       "      <td>{'decisiontreeclassifier__criterion': 'gini', 'decisiontreeclassifier__max_depth': 1000, 'decisiontreeclassifier__max_features': 'log2'}</td>\n",
       "      <td>0.396911</td>\n",
       "      <td>0.525678</td>\n",
       "      <td>34</td>\n",
       "    </tr>\n",
       "    <tr>\n",
       "      <th>28</th>\n",
       "      <td>{'decisiontreeclassifier__criterion': 'gini', 'decisiontreeclassifier__max_depth': 1000, 'decisiontreeclassifier__max_features': 'sqrt'}</td>\n",
       "      <td>0.395088</td>\n",
       "      <td>0.523899</td>\n",
       "      <td>38</td>\n",
       "    </tr>\n",
       "    <tr>\n",
       "      <th>26</th>\n",
       "      <td>{'decisiontreeclassifier__criterion': 'gini', 'decisiontreeclassifier__max_depth': 500, 'decisiontreeclassifier__max_features': 'sqrt'}</td>\n",
       "      <td>0.395088</td>\n",
       "      <td>0.523899</td>\n",
       "      <td>38</td>\n",
       "    </tr>\n",
       "    <tr>\n",
       "      <th>22</th>\n",
       "      <td>{'decisiontreeclassifier__criterion': 'gini', 'decisiontreeclassifier__max_depth': 50, 'decisiontreeclassifier__max_features': 'sqrt'}</td>\n",
       "      <td>0.395088</td>\n",
       "      <td>0.523899</td>\n",
       "      <td>38</td>\n",
       "    </tr>\n",
       "    <tr>\n",
       "      <th>24</th>\n",
       "      <td>{'decisiontreeclassifier__criterion': 'gini', 'decisiontreeclassifier__max_depth': 100, 'decisiontreeclassifier__max_features': 'sqrt'}</td>\n",
       "      <td>0.395088</td>\n",
       "      <td>0.523899</td>\n",
       "      <td>38</td>\n",
       "    </tr>\n",
       "    <tr>\n",
       "      <th>47</th>\n",
       "      <td>{'decisiontreeclassifier__criterion': 'log_loss', 'decisiontreeclassifier__max_depth': 500, 'decisiontreeclassifier__max_features': 'log2'}</td>\n",
       "      <td>0.398060</td>\n",
       "      <td>0.523376</td>\n",
       "      <td>42</td>\n",
       "    </tr>\n",
       "    <tr>\n",
       "      <th>45</th>\n",
       "      <td>{'decisiontreeclassifier__criterion': 'log_loss', 'decisiontreeclassifier__max_depth': 100, 'decisiontreeclassifier__max_features': 'log2'}</td>\n",
       "      <td>0.398060</td>\n",
       "      <td>0.523376</td>\n",
       "      <td>42</td>\n",
       "    </tr>\n",
       "    <tr>\n",
       "      <th>49</th>\n",
       "      <td>{'decisiontreeclassifier__criterion': 'log_loss', 'decisiontreeclassifier__max_depth': 1000, 'decisiontreeclassifier__max_features': 'log2'}</td>\n",
       "      <td>0.398060</td>\n",
       "      <td>0.523376</td>\n",
       "      <td>42</td>\n",
       "    </tr>\n",
       "    <tr>\n",
       "      <th>39</th>\n",
       "      <td>{'decisiontreeclassifier__criterion': 'entropy', 'decisiontreeclassifier__max_depth': 1000, 'decisiontreeclassifier__max_features': 'log2'}</td>\n",
       "      <td>0.398060</td>\n",
       "      <td>0.523376</td>\n",
       "      <td>42</td>\n",
       "    </tr>\n",
       "    <tr>\n",
       "      <th>37</th>\n",
       "      <td>{'decisiontreeclassifier__criterion': 'entropy', 'decisiontreeclassifier__max_depth': 500, 'decisiontreeclassifier__max_features': 'log2'}</td>\n",
       "      <td>0.398060</td>\n",
       "      <td>0.523376</td>\n",
       "      <td>42</td>\n",
       "    </tr>\n",
       "    <tr>\n",
       "      <th>35</th>\n",
       "      <td>{'decisiontreeclassifier__criterion': 'entropy', 'decisiontreeclassifier__max_depth': 100, 'decisiontreeclassifier__max_features': 'log2'}</td>\n",
       "      <td>0.398060</td>\n",
       "      <td>0.523376</td>\n",
       "      <td>42</td>\n",
       "    </tr>\n",
       "    <tr>\n",
       "      <th>33</th>\n",
       "      <td>{'decisiontreeclassifier__criterion': 'entropy', 'decisiontreeclassifier__max_depth': 50, 'decisiontreeclassifier__max_features': 'log2'}</td>\n",
       "      <td>0.398060</td>\n",
       "      <td>0.523376</td>\n",
       "      <td>42</td>\n",
       "    </tr>\n",
       "    <tr>\n",
       "      <th>43</th>\n",
       "      <td>{'decisiontreeclassifier__criterion': 'log_loss', 'decisiontreeclassifier__max_depth': 50, 'decisiontreeclassifier__max_features': 'log2'}</td>\n",
       "      <td>0.398060</td>\n",
       "      <td>0.523376</td>\n",
       "      <td>42</td>\n",
       "    </tr>\n",
       "    <tr>\n",
       "      <th>0</th>\n",
       "      <td>{'columntransformer__tfidfvectorizer__ngram_range': (1, 1), 'columntransformer__tfidfvectorizer__norm': 'l1'}</td>\n",
       "      <td>0.386389</td>\n",
       "      <td>0.518841</td>\n",
       "      <td>50</td>\n",
       "    </tr>\n",
       "  </tbody>\n",
       "</table>\n",
       "</div>"
      ],
      "text/plain": [
       "                                                                                                                                          params  \\\n",
       "18                                 {'columntransformer__tfidfvectorizer__ngram_range': (4, 4), 'columntransformer__tfidfvectorizer__norm': 'l1'}   \n",
       "19                                 {'columntransformer__tfidfvectorizer__ngram_range': (4, 4), 'columntransformer__tfidfvectorizer__norm': 'l2'}   \n",
       "17                                 {'columntransformer__tfidfvectorizer__ngram_range': (3, 4), 'columntransformer__tfidfvectorizer__norm': 'l2'}   \n",
       "11                                 {'columntransformer__tfidfvectorizer__ngram_range': (3, 3), 'columntransformer__tfidfvectorizer__norm': 'l2'}   \n",
       "16                                 {'columntransformer__tfidfvectorizer__ngram_range': (3, 4), 'columntransformer__tfidfvectorizer__norm': 'l1'}   \n",
       "7                                  {'columntransformer__tfidfvectorizer__ngram_range': (1, 3), 'columntransformer__tfidfvectorizer__norm': 'l2'}   \n",
       "14                                 {'columntransformer__tfidfvectorizer__ngram_range': (2, 4), 'columntransformer__tfidfvectorizer__norm': 'l1'}   \n",
       "10                                 {'columntransformer__tfidfvectorizer__ngram_range': (3, 3), 'columntransformer__tfidfvectorizer__norm': 'l1'}   \n",
       "15                                 {'columntransformer__tfidfvectorizer__ngram_range': (2, 4), 'columntransformer__tfidfvectorizer__norm': 'l2'}   \n",
       "6                                  {'columntransformer__tfidfvectorizer__ngram_range': (1, 3), 'columntransformer__tfidfvectorizer__norm': 'l1'}   \n",
       "13                                 {'columntransformer__tfidfvectorizer__ngram_range': (1, 4), 'columntransformer__tfidfvectorizer__norm': 'l2'}   \n",
       "12                                 {'columntransformer__tfidfvectorizer__ngram_range': (1, 4), 'columntransformer__tfidfvectorizer__norm': 'l1'}   \n",
       "8                                  {'columntransformer__tfidfvectorizer__ngram_range': (2, 3), 'columntransformer__tfidfvectorizer__norm': 'l1'}   \n",
       "9                                  {'columntransformer__tfidfvectorizer__ngram_range': (2, 3), 'columntransformer__tfidfvectorizer__norm': 'l2'}   \n",
       "3                                  {'columntransformer__tfidfvectorizer__ngram_range': (1, 2), 'columntransformer__tfidfvectorizer__norm': 'l2'}   \n",
       "5                                  {'columntransformer__tfidfvectorizer__ngram_range': (2, 2), 'columntransformer__tfidfvectorizer__norm': 'l2'}   \n",
       "1                                  {'columntransformer__tfidfvectorizer__ngram_range': (1, 1), 'columntransformer__tfidfvectorizer__norm': 'l2'}   \n",
       "2                                  {'columntransformer__tfidfvectorizer__ngram_range': (1, 2), 'columntransformer__tfidfvectorizer__norm': 'l1'}   \n",
       "30     {'decisiontreeclassifier__criterion': 'entropy', 'decisiontreeclassifier__max_depth': 10, 'decisiontreeclassifier__max_features': 'sqrt'}   \n",
       "40    {'decisiontreeclassifier__criterion': 'log_loss', 'decisiontreeclassifier__max_depth': 10, 'decisiontreeclassifier__max_features': 'sqrt'}   \n",
       "41    {'decisiontreeclassifier__criterion': 'log_loss', 'decisiontreeclassifier__max_depth': 10, 'decisiontreeclassifier__max_features': 'log2'}   \n",
       "31     {'decisiontreeclassifier__criterion': 'entropy', 'decisiontreeclassifier__max_depth': 10, 'decisiontreeclassifier__max_features': 'log2'}   \n",
       "21        {'decisiontreeclassifier__criterion': 'gini', 'decisiontreeclassifier__max_depth': 10, 'decisiontreeclassifier__max_features': 'log2'}   \n",
       "44   {'decisiontreeclassifier__criterion': 'log_loss', 'decisiontreeclassifier__max_depth': 100, 'decisiontreeclassifier__max_features': 'sqrt'}   \n",
       "38   {'decisiontreeclassifier__criterion': 'entropy', 'decisiontreeclassifier__max_depth': 1000, 'decisiontreeclassifier__max_features': 'sqrt'}   \n",
       "36    {'decisiontreeclassifier__criterion': 'entropy', 'decisiontreeclassifier__max_depth': 500, 'decisiontreeclassifier__max_features': 'sqrt'}   \n",
       "46   {'decisiontreeclassifier__criterion': 'log_loss', 'decisiontreeclassifier__max_depth': 500, 'decisiontreeclassifier__max_features': 'sqrt'}   \n",
       "34    {'decisiontreeclassifier__criterion': 'entropy', 'decisiontreeclassifier__max_depth': 100, 'decisiontreeclassifier__max_features': 'sqrt'}   \n",
       "32     {'decisiontreeclassifier__criterion': 'entropy', 'decisiontreeclassifier__max_depth': 50, 'decisiontreeclassifier__max_features': 'sqrt'}   \n",
       "42    {'decisiontreeclassifier__criterion': 'log_loss', 'decisiontreeclassifier__max_depth': 50, 'decisiontreeclassifier__max_features': 'sqrt'}   \n",
       "48  {'decisiontreeclassifier__criterion': 'log_loss', 'decisiontreeclassifier__max_depth': 1000, 'decisiontreeclassifier__max_features': 'sqrt'}   \n",
       "20        {'decisiontreeclassifier__criterion': 'gini', 'decisiontreeclassifier__max_depth': 10, 'decisiontreeclassifier__max_features': 'sqrt'}   \n",
       "4                                  {'columntransformer__tfidfvectorizer__ngram_range': (2, 2), 'columntransformer__tfidfvectorizer__norm': 'l1'}   \n",
       "27       {'decisiontreeclassifier__criterion': 'gini', 'decisiontreeclassifier__max_depth': 500, 'decisiontreeclassifier__max_features': 'log2'}   \n",
       "25       {'decisiontreeclassifier__criterion': 'gini', 'decisiontreeclassifier__max_depth': 100, 'decisiontreeclassifier__max_features': 'log2'}   \n",
       "23        {'decisiontreeclassifier__criterion': 'gini', 'decisiontreeclassifier__max_depth': 50, 'decisiontreeclassifier__max_features': 'log2'}   \n",
       "29      {'decisiontreeclassifier__criterion': 'gini', 'decisiontreeclassifier__max_depth': 1000, 'decisiontreeclassifier__max_features': 'log2'}   \n",
       "28      {'decisiontreeclassifier__criterion': 'gini', 'decisiontreeclassifier__max_depth': 1000, 'decisiontreeclassifier__max_features': 'sqrt'}   \n",
       "26       {'decisiontreeclassifier__criterion': 'gini', 'decisiontreeclassifier__max_depth': 500, 'decisiontreeclassifier__max_features': 'sqrt'}   \n",
       "22        {'decisiontreeclassifier__criterion': 'gini', 'decisiontreeclassifier__max_depth': 50, 'decisiontreeclassifier__max_features': 'sqrt'}   \n",
       "24       {'decisiontreeclassifier__criterion': 'gini', 'decisiontreeclassifier__max_depth': 100, 'decisiontreeclassifier__max_features': 'sqrt'}   \n",
       "47   {'decisiontreeclassifier__criterion': 'log_loss', 'decisiontreeclassifier__max_depth': 500, 'decisiontreeclassifier__max_features': 'log2'}   \n",
       "45   {'decisiontreeclassifier__criterion': 'log_loss', 'decisiontreeclassifier__max_depth': 100, 'decisiontreeclassifier__max_features': 'log2'}   \n",
       "49  {'decisiontreeclassifier__criterion': 'log_loss', 'decisiontreeclassifier__max_depth': 1000, 'decisiontreeclassifier__max_features': 'log2'}   \n",
       "39   {'decisiontreeclassifier__criterion': 'entropy', 'decisiontreeclassifier__max_depth': 1000, 'decisiontreeclassifier__max_features': 'log2'}   \n",
       "37    {'decisiontreeclassifier__criterion': 'entropy', 'decisiontreeclassifier__max_depth': 500, 'decisiontreeclassifier__max_features': 'log2'}   \n",
       "35    {'decisiontreeclassifier__criterion': 'entropy', 'decisiontreeclassifier__max_depth': 100, 'decisiontreeclassifier__max_features': 'log2'}   \n",
       "33     {'decisiontreeclassifier__criterion': 'entropy', 'decisiontreeclassifier__max_depth': 50, 'decisiontreeclassifier__max_features': 'log2'}   \n",
       "43    {'decisiontreeclassifier__criterion': 'log_loss', 'decisiontreeclassifier__max_depth': 50, 'decisiontreeclassifier__max_features': 'log2'}   \n",
       "0                                  {'columntransformer__tfidfvectorizer__ngram_range': (1, 1), 'columntransformer__tfidfvectorizer__norm': 'l1'}   \n",
       "\n",
       "    mean_test_f1_weighted  mean_test_roc_auc_ovo  rank_test_roc_auc_ovo  \n",
       "18               0.484578               0.590644                      1  \n",
       "19               0.482392               0.585425                      2  \n",
       "17               0.466723               0.579886                      3  \n",
       "11               0.459877               0.571032                      4  \n",
       "16               0.465304               0.570773                      5  \n",
       "7                0.447828               0.569176                      6  \n",
       "14               0.457097               0.568067                      7  \n",
       "10               0.439609               0.562997                      8  \n",
       "15               0.443156               0.561698                      9  \n",
       "6                0.444993               0.560520                     10  \n",
       "13               0.450424               0.557488                     11  \n",
       "12               0.447065               0.556966                     12  \n",
       "8                0.440021               0.556430                     13  \n",
       "9                0.444928               0.553994                     14  \n",
       "3                0.416772               0.538014                     15  \n",
       "5                0.417450               0.537159                     16  \n",
       "1                0.408274               0.537050                     17  \n",
       "2                0.412865               0.535207                     18  \n",
       "30               0.398798               0.531085                     19  \n",
       "40               0.398798               0.531085                     19  \n",
       "41               0.399616               0.530714                     21  \n",
       "31               0.399616               0.530714                     21  \n",
       "21               0.419010               0.529972                     23  \n",
       "44               0.398060               0.528725                     24  \n",
       "38               0.398060               0.528725                     24  \n",
       "36               0.398060               0.528725                     24  \n",
       "46               0.398060               0.528725                     24  \n",
       "34               0.398060               0.528725                     24  \n",
       "32               0.398060               0.528725                     24  \n",
       "42               0.398060               0.528725                     24  \n",
       "48               0.398060               0.528725                     24  \n",
       "20               0.416727               0.527175                     32  \n",
       "4                0.401967               0.526187                     33  \n",
       "27               0.396911               0.525678                     34  \n",
       "25               0.396911               0.525678                     34  \n",
       "23               0.396911               0.525678                     34  \n",
       "29               0.396911               0.525678                     34  \n",
       "28               0.395088               0.523899                     38  \n",
       "26               0.395088               0.523899                     38  \n",
       "22               0.395088               0.523899                     38  \n",
       "24               0.395088               0.523899                     38  \n",
       "47               0.398060               0.523376                     42  \n",
       "45               0.398060               0.523376                     42  \n",
       "49               0.398060               0.523376                     42  \n",
       "39               0.398060               0.523376                     42  \n",
       "37               0.398060               0.523376                     42  \n",
       "35               0.398060               0.523376                     42  \n",
       "33               0.398060               0.523376                     42  \n",
       "43               0.398060               0.523376                     42  \n",
       "0                0.386389               0.518841                     50  "
      ]
     },
     "execution_count": 25,
     "metadata": {},
     "output_type": "execute_result"
    }
   ],
   "source": [
    "tune_results"
   ]
  },
  {
   "cell_type": "markdown",
   "metadata": {},
   "source": [
    "#### **Model Re-Training**"
   ]
  },
  {
   "cell_type": "code",
   "execution_count": null,
   "metadata": {},
   "outputs": [
    {
     "name": "stdout",
     "output_type": "stream",
     "text": [
      "Training Scores:  {'f1': 0.43, 'roc_auc': 0.6}\n",
      "Testing Scores:  {'f1': 0.43, 'roc_auc': 0.59}\n"
     ]
    }
   ],
   "source": [
    "from sklearn.preprocessing import LabelBinarizer\n",
    "\n",
    "# Model training pipeline\n",
    "def _model_pipeline(baseline: BaseEstimator, vect_ngram_=(1,1), vect_norm_=\"l2\"):\n",
    "    \n",
    "    vect = TfidfVectorizer(\n",
    "        ngram_range=vect_ngram_,\n",
    "        norm=vect_norm_,\n",
    "        analyzer=\"word\",\n",
    "        tokenizer=word_processor,\n",
    "        preprocessor=word_processor\n",
    "    )\n",
    "    ct = make_column_transformer((vect, \"text\"), remainder=\"drop\")\n",
    "    pipeline = make_pipeline(ct, baseline)\n",
    "    \n",
    "    return pipeline\n",
    "\n",
    "# Load training & testing dataset\n",
    "_train = load_train_split(\"train.csv\")\n",
    "_test = load_train_split(\"test.csv\")\n",
    "\n",
    "X_train_= _train[[\"text\"]]\n",
    "y_train_ = _train[[\"sentiment\"]]\n",
    "\n",
    "X_test_= _test[[\"text\"]]\n",
    "y_test_ = _test[[\"sentiment\"]]\n",
    "\n",
    "# Label Encoding\n",
    "binarizer = LabelBinarizer(sparse_output=False)\n",
    "# label_encoding = LabelEncoder()\n",
    "y_train_ = binarizer.fit_transform(y_train_)\n",
    "y_test_ = binarizer.transform(y_test_)\n",
    "\n",
    "# training model\n",
    "best_model = DecisionTreeClassifier(criterion='entropy', max_depth=10, max_features='sqrt', random_state=43)\n",
    "model = _model_pipeline(best_model, (4,4), \"l1\").fit(X_train_, y_train_.argmax(axis=1))\n",
    "\n",
    "train_metric_scores = calculate_model_metrics(model, X_train_, y_train_.argmax(axis=1))\n",
    "test_metric_scores = calculate_model_metrics(model, X_test_, y_test_.argmax(axis=1))\n",
    "\n",
    "print(\"Training Scores: \", train_metric_scores)\n",
    "print(\"Testing Scores: \", test_metric_scores)"
   ]
  },
  {
   "cell_type": "code",
   "execution_count": null,
   "metadata": {},
   "outputs": [],
   "source": [
    "# Convert numerical labels into named labels\n",
    "def get_output_label(index, size=3):\n",
    "   \n",
    "    try:\n",
    "        if index >= size:\n",
    "            raise ValueError(\"Index must be less than number of classes.\")\n",
    "        \n",
    "        arr = np.zeros(3, dtype=int)\n",
    "        arr[index] = 1\n",
    "        arr = arr.reshape(1, size)\n",
    "\n",
    "        output = binarizer.inverse_transform(arr)[0]\n",
    "        return output\n",
    "    except ValueError as e:\n",
    "        print(f\"Error: {e}\")"
   ]
  },
  {
   "cell_type": "code",
   "execution_count": 387,
   "metadata": {},
   "outputs": [],
   "source": [
    "from sklearn.metrics import roc_curve, auc\n",
    "\n",
    "def plot_roc_auc_curve(model: BaseEstimator, y_test_, X_test_) -> None:\n",
    "    \n",
    "    fpr = dict()\n",
    "    tpr = dict() \n",
    "    roc_auc = dict()\n",
    "    n_classes = len(set(y_test_.argmax(axis=1)))\n",
    "    y_scores = model.predict_proba(X_test_)\n",
    "    fpr = dict()\n",
    "    tpr = dict()\n",
    "    roc_auc = dict()\n",
    "\n",
    "    for i in range(n_classes):\n",
    "        fpr[i], tpr[i], _ = roc_curve(y_test_[:, i], y_scores[:, i])\n",
    "        roc_auc[i] = auc(fpr[i], tpr[i])\n",
    "\n",
    "    # Calculate micro-average ROC curve and ROC area\n",
    "\n",
    "    # Micro average\n",
    "    fpr[\"micro\"], tpr[\"micro\"], _ = roc_curve(y_test_.ravel(), y_scores.ravel())\n",
    "    roc_auc[\"micro\"] = auc(fpr[\"micro\"], tpr[\"micro\"])\n",
    "\n",
    "    # Macro average\n",
    "    all_fpr = np.unique(np.concatenate([fpr[i] for i in range(n_classes)]))\n",
    "    mean_tpr = np.zeros_like(all_fpr)\n",
    "\n",
    "    for i in range(n_classes):\n",
    "        mean_tpr += np.interp(all_fpr, fpr[i], tpr[i])\n",
    "\n",
    "    mean_tpr /= n_classes\n",
    "    tpr[\"macro\"] = mean_tpr\n",
    "    fpr[\"macro\"] = all_fpr\n",
    "    roc_auc[\"macro\"] = auc(fpr[\"macro\"], tpr[\"macro\"])\n",
    "\n",
    "    # Weighted average\n",
    "    class_weights = np.sum(y_test_, axis=0) / np.sum(y_test_)\n",
    "    weighted_tpr = np.zeros_like(all_fpr)\n",
    "    for i in range(n_classes):\n",
    "        weighted_tpr += class_weights[i] * np.interp(all_fpr, fpr[i], tpr[i])\n",
    "        \n",
    "    tpr[\"weighted\"] = mean_tpr\n",
    "    fpr[\"weighted\"] = all_fpr\n",
    "    roc_auc[\"weighted\"] = auc(fpr[\"weighted\"], tpr[\"weighted\"])\n",
    "\n",
    "    # # Plot ROC curve\n",
    "    plt.subplots(1, 1, figsize=(14, 6))  \n",
    "\n",
    "    for idx, w in zip([\"*\", \"<\", \"1\"], [\"micro\", \"macro\", \"weighted\"]):\n",
    "        plt.plot(fpr[w], tpr[w], label=f'{w}-average ROC curve (area = {roc_auc[w]:0.2f})', marker=idx, linewidth=1.5)\n",
    "        \n",
    "    for i in range(n_classes):\n",
    "        plt.plot(fpr[i], tpr[i], label=f'ROC curve of {get_output_label(i)} (area = {roc_auc[i]:0.2f}', linewidth=1.5)\n",
    "\n",
    "    plt.plot([0, 1], [0, 1], 'k--')\n",
    "    plt.xlim([0.0, 1.0])\n",
    "    plt.ylim([0.0, 1.05])\n",
    "    plt.xlabel('False Positive Rate')\n",
    "    plt.ylabel('True Positive Rate')\n",
    "    plt.title('ROC-AUC Evaluation')\n",
    "    plt.legend(loc=\"lower right\")\n",
    "    plt.show()"
   ]
  },
  {
   "cell_type": "code",
   "execution_count": 388,
   "metadata": {},
   "outputs": [
    {
     "data": {
      "image/png": "[encoded data removed]",
      "text/plain": [
       "<Figure size 1400x600 with 1 Axes>"
      ]
     },
     "metadata": {},
     "output_type": "display_data"
    }
   ],
   "source": [
    "plot_roc_auc_curve(model, y_test_, X_test_)"
   ]
  }
 ],
 "metadata": {
  "colab": {
   "provenance": []
  },
  "kernelspec": {
   "display_name": ".venv",
   "language": "python",
   "name": "python3"
  },
  "language_info": {
   "codemirror_mode": {
    "name": "ipython",
    "version": 3
   },
   "file_extension": ".py",
   "mimetype": "text/x-python",
   "name": "python",
   "nbconvert_exporter": "python",
   "pygments_lexer": "ipython3",
   "version": "3.10.0"
  }
 },
 "nbformat": 4,
 "nbformat_minor": 0
}
