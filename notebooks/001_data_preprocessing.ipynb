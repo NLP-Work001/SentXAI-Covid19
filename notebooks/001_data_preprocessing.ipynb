{
 "cells": [
  {
   "cell_type": "markdown",
   "metadata": {
    "id": "FoAcUnyi_K9z"
   },
   "source": [
    "#### **Library & utils**"
   ]
  },
  {
   "cell_type": "markdown",
   "metadata": {
    "id": "eYGXOJ9O_K90"
   },
   "source": [
    "#### **Dataset**"
   ]
  },
  {
   "cell_type": "code",
   "execution_count": 1,
   "metadata": {
    "executionInfo": {
     "elapsed": 2638,
     "status": "ok",
     "timestamp": 1735698257457,
     "user": {
      "displayName": "Nhlanhla Baloyi",
      "userId": "18181450686318463916"
     },
     "user_tz": -120
    },
    "id": "qinRqx4DGCFL"
   },
   "outputs": [],
   "source": [
    "import os\n",
    "import warnings\n",
    "# import kagglehub\n",
    "import numpy as np\n",
    "import pandas as pd\n",
    "import matplotlib.pyplot as plt\n",
    "import seaborn as sns\n",
    "from pathlib import Path\n",
    "\n",
    "warnings.filterwarnings('ignore')\n",
    "\n",
    "pd.set_option(\"display.max_colwidth\", 200)"
   ]
  },
  {
   "cell_type": "code",
   "execution_count": 1,
   "metadata": {},
   "outputs": [],
   "source": [
    "import pandas as pd\n",
    "import matplotlib.pyplot as plt\n",
    "import seaborn as sns"
   ]
  },
  {
   "cell_type": "code",
   "execution_count": 53,
   "metadata": {},
   "outputs": [
    {
     "data": {
      "text/html": [
       "<div>\n",
       "<style scoped>\n",
       "    .dataframe tbody tr th:only-of-type {\n",
       "        vertical-align: middle;\n",
       "    }\n",
       "\n",
       "    .dataframe tbody tr th {\n",
       "        vertical-align: top;\n",
       "    }\n",
       "\n",
       "    .dataframe thead th {\n",
       "        text-align: right;\n",
       "    }\n",
       "</style>\n",
       "<table border=\"1\" class=\"dataframe\">\n",
       "  <thead>\n",
       "    <tr style=\"text-align: right;\">\n",
       "      <th></th>\n",
       "      <th>f1</th>\n",
       "      <th>roc_auc</th>\n",
       "    </tr>\n",
       "  </thead>\n",
       "  <tbody>\n",
       "    <tr>\n",
       "      <th>train</th>\n",
       "      <td>0.89</td>\n",
       "      <td>0.99</td>\n",
       "    </tr>\n",
       "    <tr>\n",
       "      <th>test</th>\n",
       "      <td>0.56</td>\n",
       "      <td>0.75</td>\n",
       "    </tr>\n",
       "  </tbody>\n",
       "</table>\n",
       "</div>"
      ],
      "text/plain": [
       "         f1  roc_auc\n",
       "train  0.89     0.99\n",
       "test   0.56     0.75"
      ]
     },
     "execution_count": 53,
     "metadata": {},
     "output_type": "execute_result"
    }
   ],
   "source": [
    "\n",
    "training_metrics = {\n",
    "    \"train\": {\n",
    "        \"f1\": 0.89,\n",
    "        \"roc_auc\": 0.99\n",
    "    },\n",
    "    \"test\": {\n",
    "        \"f1\": 0.56,\n",
    "        \"roc_auc\": 0.75\n",
    "    }\n",
    "}\n",
    "\n",
    "\n",
    "items = training_metrics.items()\n",
    "metrics = [list(v.values()) for _, v in items]\n",
    "columns =  next(iter([list(c.keys()) for _, c in items]))\n",
    "index =  [k for k, _ in items]\n",
    "scores = pd.DataFrame(metrics, index=index, columns=columns)\n",
    "\n",
    "scores"
   ]
  },
  {
   "cell_type": "code",
   "execution_count": 82,
   "metadata": {},
   "outputs": [
    {
     "data": {
      "image/png": "[encoded data removed]",
      "text/plain": [
       "<Figure size 1500x400 with 2 Axes>"
      ]
     },
     "metadata": {},
     "output_type": "display_data"
    }
   ],
   "source": [
    "plt.style.use(\"ggplot\")\n",
    "fig, ax = plt.subplots(1, 2, figsize=(15, 4))\n",
    "\n",
    "for i, c in enumerate(columns):\n",
    "    plot = sns.barplot(scores, y=c, hue=scores.index, ax=ax[i], gap=0.5)\n",
    "    ax[i].set_title(f\"Scores evaluation for `{c}`\", alpha=0.7, fontweight=10)\n",
    "    ax[i].legend()\n",
    "\n",
    "plt.tight_layout()\n",
    "plt.show()"
   ]
  },
  {
   "cell_type": "code",
   "execution_count": 6,
   "metadata": {
    "executionInfo": {
     "elapsed": 599,
     "status": "ok",
     "timestamp": 1735698179867,
     "user": {
      "displayName": "Nhlanhla Baloyi",
      "userId": "18181450686318463916"
     },
     "user_tz": -120
    },
    "id": "d1rYCrHwLja3"
   },
   "outputs": [],
   "source": [
    "# \"https://www.kaggle.com/datasets/datatattle/covid-19-nlp-text-classification/data\"\n",
    "def download_dataset(URL: str) -> pd.DataFrame:\n",
    "\n",
    "    training_path = Path(f\"{URL}/Corona_NLP_train.csv\")\n",
    "    testing_path = Path(f\"{URL}/Corona_NLP_test.csv\")\n",
    "\n",
    "    train_df = pd.read_csv(training_path, encoding=\"latin1\")\n",
    "    test_df = pd.read_csv(testing_path, encoding=\"latin1\")\n",
    "\n",
    "    return pd.concat([train_df, test_df], axis=0)"
   ]
  },
  {
   "cell_type": "code",
   "execution_count": 48,
   "metadata": {},
   "outputs": [
    {
     "data": {
      "text/html": [
       "<div>\n",
       "<style scoped>\n",
       "    .dataframe tbody tr th:only-of-type {\n",
       "        vertical-align: middle;\n",
       "    }\n",
       "\n",
       "    .dataframe tbody tr th {\n",
       "        vertical-align: top;\n",
       "    }\n",
       "\n",
       "    .dataframe thead th {\n",
       "        text-align: right;\n",
       "    }\n",
       "</style>\n",
       "<table border=\"1\" class=\"dataframe\">\n",
       "  <thead>\n",
       "    <tr style=\"text-align: right;\">\n",
       "      <th></th>\n",
       "      <th>tweet</th>\n",
       "      <th>sentiment</th>\n",
       "    </tr>\n",
       "  </thead>\n",
       "  <tbody>\n",
       "    <tr>\n",
       "      <th>0</th>\n",
       "      <td>#toiletpaper shortage ??\\r\\r\\ndon't believe everything you see on tv! my costco just now....,.#coronavirus https://t.co/fdvikzgfwd</td>\n",
       "      <td>negative</td>\n",
       "    </tr>\n",
       "    <tr>\n",
       "      <th>1</th>\n",
       "      <td>@howroute itâs not even over food... what the actual heck?? i have news for these people ... \\r\\r\\n\\r\\r\\nyou need food and water before you need the paper to wipe your a$$. just sayin.. ? \\r\\r\\n\\...</td>\n",
       "      <td>neutral</td>\n",
       "    </tr>\n",
       "    <tr>\n",
       "      <th>2</th>\n",
       "      <td>trump said people must \"be vigilant,\" then concluded, \"be calm. it's really working out. and: lot of good things are going to happen. the consumer is ready. the consumer is so powerful in our coun...</td>\n",
       "      <td>extremely positive</td>\n",
       "    </tr>\n",
       "    <tr>\n",
       "      <th>3</th>\n",
       "      <td>cdc: older folks should stock up on food, stay home amid #coronavirus - business insider  wow! https://t.co/ygcpte7f1l</td>\n",
       "      <td>positive</td>\n",
       "    </tr>\n",
       "    <tr>\n",
       "      <th>4</th>\n",
       "      <td>if 1,000,000 get infected with a 2% death rate for the #coronavirus then 20,000 will die in usa.\\r\\r\\n\\r\\r\\nif you dont have mo mney to stock up food, then find a fishing hole and supplies to hunt...</td>\n",
       "      <td>extremely negative</td>\n",
       "    </tr>\n",
       "  </tbody>\n",
       "</table>\n",
       "</div>"
      ],
      "text/plain": [
       "                                                                                                                                                                                                     tweet  \\\n",
       "0                                                                       #toiletpaper shortage ??\\r\\r\\ndon't believe everything you see on tv! my costco just now....,.#coronavirus https://t.co/fdvikzgfwd   \n",
       "1  @howroute itâs not even over food... what the actual heck?? i have news for these people ... \\r\\r\\n\\r\\r\\nyou need food and water before you need the paper to wipe your a$$. just sayin.. ? \\r\\r\\n\\...   \n",
       "2  trump said people must \"be vigilant,\" then concluded, \"be calm. it's really working out. and: lot of good things are going to happen. the consumer is ready. the consumer is so powerful in our coun...   \n",
       "3                                                                                   cdc: older folks should stock up on food, stay home amid #coronavirus - business insider  wow! https://t.co/ygcpte7f1l   \n",
       "4  if 1,000,000 get infected with a 2% death rate for the #coronavirus then 20,000 will die in usa.\\r\\r\\n\\r\\r\\nif you dont have mo mney to stock up food, then find a fishing hole and supplies to hunt...   \n",
       "\n",
       "            sentiment  \n",
       "0            negative  \n",
       "1             neutral  \n",
       "2  extremely positive  \n",
       "3            positive  \n",
       "4  extremely negative  "
      ]
     },
     "execution_count": 48,
     "metadata": {},
     "output_type": "execute_result"
    }
   ],
   "source": [
    "temp_df = data.head(200)\n",
    "temp_df = temp_df.rename(columns=str.lower)\n",
    "temp_df = temp_df[[\"originaltweet\", \"sentiment\"]]\n",
    "temp_df = temp_df.rename(columns={\"originaltweet\": \"tweet\"})\n",
    "temp_df = temp_df.astype(str)\n",
    "for c in temp_df.columns:\n",
    "    temp_df[c] = temp_df[c].str.lower()\n",
    "temp_df = temp_df.sample(frac=1, random_state=43).reset_index(drop=True)\n",
    "\n",
    "temp_df.head()"
   ]
  },
  {
   "cell_type": "code",
   "execution_count": 7,
   "metadata": {
    "colab": {
     "base_uri": "https://localhost:8080/",
     "height": 276
    },
    "executionInfo": {
     "elapsed": 5308,
     "status": "ok",
     "timestamp": 1735698214224,
     "user": {
      "displayName": "Nhlanhla Baloyi",
      "userId": "18181450686318463916"
     },
     "user_tz": -120
    },
    "id": "dEAAzfNJBaf6",
    "outputId": "b0b3a07b-0af1-46a0-b943-bdab51ef2866"
   },
   "outputs": [
    {
     "name": "stdout",
     "output_type": "stream",
     "text": [
      "Warning: Looks like you're using an outdated `kagglehub` version (installed: 0.3.5), please consider upgrading to the latest version (0.3.6).\n",
      "Downloading from https://www.kaggle.com/api/v1/datasets/download/datatattle/covid-19-nlp-text-classification?dataset_version_number=1...\n"
     ]
    },
    {
     "name": "stderr",
     "output_type": "stream",
     "text": [
      "100%|██████████| 4.38M/4.38M [00:00<00:00, 112MB/s]"
     ]
    },
    {
     "name": "stdout",
     "output_type": "stream",
     "text": [
      "Extracting files...\n"
     ]
    },
    {
     "name": "stderr",
     "output_type": "stream",
     "text": [
      "\n"
     ]
    },
    {
     "data": {
      "application/vnd.google.colaboratory.intrinsic+json": {
       "summary": "{\n  \"name\": \"df\",\n  \"rows\": 44955,\n  \"fields\": [\n    {\n      \"column\": \"tweet\",\n      \"properties\": {\n        \"dtype\": \"string\",\n        \"num_unique_values\": 44953,\n        \"samples\": [\n          \"what if the #coronavirus was a weaponized virus similar to what @billgates alluded to in his @tedtalks back in 2015?  @realdonaldtrump was constantly reffering to the strength of the u.s. consumer our country and our insulated economy as china suffered under us tariffs. #covid19\",\n          \"the world may run out of storage to store oil because of massive decrease in demand amid #coronacrisis. this could lead to a negative oil price.\\r\\r\\n\\r\\r\\n#coronavirusupdate #isolation #staysafestayhome #covid #worldfightscorona #covid2019 #coronavirusoutbreak\\r\\r\\n\\r\\r\\nhttps://t.co/f0hepy7ewd\",\n          \"army troops on the street of dhaka to force people to stay at home.i went to supermarket for essential grocery, where only 20 customers were allowed at a time.the most crowded city now turns into \\\"a ghost town\\\"! hope this situation will change soon.\\r\\r\\n#shut_down_dhaka\\r\\r\\n#covid2019 https://t.co/tvhuwu6ect\"\n        ],\n        \"semantic_type\": \"\",\n        \"description\": \"\"\n      }\n    },\n    {\n      \"column\": \"sentiment\",\n      \"properties\": {\n        \"dtype\": \"category\",\n        \"num_unique_values\": 5,\n        \"samples\": [\n          \"extremely positive\",\n          \"positive\",\n          \"neutral\"\n        ],\n        \"semantic_type\": \"\",\n        \"description\": \"\"\n      }\n    }\n  ]\n}",
       "type": "dataframe",
       "variable_name": "df"
      },
      "text/html": [
       "\n",
       "  <div id=\"df-f547fa9c-8967-41ba-8872-d96925a0de1b\" class=\"colab-df-container\">\n",
       "    <div>\n",
       "<style scoped>\n",
       "    .dataframe tbody tr th:only-of-type {\n",
       "        vertical-align: middle;\n",
       "    }\n",
       "\n",
       "    .dataframe tbody tr th {\n",
       "        vertical-align: top;\n",
       "    }\n",
       "\n",
       "    .dataframe thead th {\n",
       "        text-align: right;\n",
       "    }\n",
       "</style>\n",
       "<table border=\"1\" class=\"dataframe\">\n",
       "  <thead>\n",
       "    <tr style=\"text-align: right;\">\n",
       "      <th></th>\n",
       "      <th>tweet</th>\n",
       "      <th>sentiment</th>\n",
       "    </tr>\n",
       "  </thead>\n",
       "  <tbody>\n",
       "    <tr>\n",
       "      <th>0</th>\n",
       "      <td>coronavirus latest:drivers in #nj, around country still seeing gas prices drop amid covid- - mar 21 @ 10:28 am et https://t.co/zxlzvhbyvw</td>\n",
       "      <td>negative</td>\n",
       "    </tr>\n",
       "    <tr>\n",
       "      <th>1</th>\n",
       "      <td>itâs a difficult time for everyone at the moment but please do not stockpile and panic buy.. if you just buy what you need as normal there will be plenty of food and essential supplies for everyo...</td>\n",
       "      <td>extremely positive</td>\n",
       "    </tr>\n",
       "    <tr>\n",
       "      <th>2</th>\n",
       "      <td>or buy gift certificates for others who may be in self-quarantine. a little online shopping will pass the time and keep local businesses alive. plus, more books! #coronavirus #books</td>\n",
       "      <td>extremely positive</td>\n",
       "    </tr>\n",
       "    <tr>\n",
       "      <th>3</th>\n",
       "      <td>\"la rental prices fall for the first time in a decade.\"\\r\\r\\n#coronavirus #realestate #investment \\r\\r\\n\\r\\r\\nhttps://t.co/1hniyhoooa</td>\n",
       "      <td>neutral</td>\n",
       "    </tr>\n",
       "    <tr>\n",
       "      <th>4</th>\n",
       "      <td>covid-19 coronavirus: rotorua shoppers wear beekeeping suits to supermarket ????? https://t.co/qfpj5kzn1p</td>\n",
       "      <td>neutral</td>\n",
       "    </tr>\n",
       "  </tbody>\n",
       "</table>\n",
       "</div>\n",
       "    <div class=\"colab-df-buttons\">\n",
       "\n",
       "  <div class=\"colab-df-container\">\n",
       "    <button class=\"colab-df-convert\" onclick=\"convertToInteractive('df-f547fa9c-8967-41ba-8872-d96925a0de1b')\"\n",
       "            title=\"Convert this dataframe to an interactive table.\"\n",
       "            style=\"display:none;\">\n",
       "\n",
       "  <svg xmlns=\"http://www.w3.org/2000/svg\" height=\"24px\" viewBox=\"0 -960 960 960\">\n",
       "    <path d=\"M120-120v-720h720v720H120Zm60-500h600v-160H180v160Zm220 220h160v-160H400v160Zm0 220h160v-160H400v160ZM180-400h160v-160H180v160Zm440 0h160v-160H620v160ZM180-180h160v-160H180v160Zm440 0h160v-160H620v160Z\"/>\n",
       "  </svg>\n",
       "    </button>\n",
       "\n",
       "  <style>\n",
       "    .colab-df-container {\n",
       "      display:flex;\n",
       "      gap: 12px;\n",
       "    }\n",
       "\n",
       "    .colab-df-convert {\n",
       "      background-color: #E8F0FE;\n",
       "      border: none;\n",
       "      border-radius: 50%;\n",
       "      cursor: pointer;\n",
       "      display: none;\n",
       "      fill: #1967D2;\n",
       "      height: 32px;\n",
       "      padding: 0 0 0 0;\n",
       "      width: 32px;\n",
       "    }\n",
       "\n",
       "    .colab-df-convert:hover {\n",
       "      background-color: #E2EBFA;\n",
       "      box-shadow: 0px 1px 2px rgba(60, 64, 67, 0.3), 0px 1px 3px 1px rgba(60, 64, 67, 0.15);\n",
       "      fill: #174EA6;\n",
       "    }\n",
       "\n",
       "    .colab-df-buttons div {\n",
       "      margin-bottom: 4px;\n",
       "    }\n",
       "\n",
       "    [theme=dark] .colab-df-convert {\n",
       "      background-color: #3B4455;\n",
       "      fill: #D2E3FC;\n",
       "    }\n",
       "\n",
       "    [theme=dark] .colab-df-convert:hover {\n",
       "      background-color: #434B5C;\n",
       "      box-shadow: 0px 1px 3px 1px rgba(0, 0, 0, 0.15);\n",
       "      filter: drop-shadow(0px 1px 2px rgba(0, 0, 0, 0.3));\n",
       "      fill: #FFFFFF;\n",
       "    }\n",
       "  </style>\n",
       "\n",
       "    <script>\n",
       "      const buttonEl =\n",
       "        document.querySelector('#df-f547fa9c-8967-41ba-8872-d96925a0de1b button.colab-df-convert');\n",
       "      buttonEl.style.display =\n",
       "        google.colab.kernel.accessAllowed ? 'block' : 'none';\n",
       "\n",
       "      async function convertToInteractive(key) {\n",
       "        const element = document.querySelector('#df-f547fa9c-8967-41ba-8872-d96925a0de1b');\n",
       "        const dataTable =\n",
       "          await google.colab.kernel.invokeFunction('convertToInteractive',\n",
       "                                                    [key], {});\n",
       "        if (!dataTable) return;\n",
       "\n",
       "        const docLinkHtml = 'Like what you see? Visit the ' +\n",
       "          '<a target=\"_blank\" href=https://colab.research.google.com/notebooks/data_table.ipynb>data table notebook</a>'\n",
       "          + ' to learn more about interactive tables.';\n",
       "        element.innerHTML = '';\n",
       "        dataTable['output_type'] = 'display_data';\n",
       "        await google.colab.output.renderOutput(dataTable, element);\n",
       "        const docLink = document.createElement('div');\n",
       "        docLink.innerHTML = docLinkHtml;\n",
       "        element.appendChild(docLink);\n",
       "      }\n",
       "    </script>\n",
       "  </div>\n",
       "\n",
       "\n",
       "<div id=\"df-6a12485a-fb9d-419f-aa5e-7f842073c728\">\n",
       "  <button class=\"colab-df-quickchart\" onclick=\"quickchart('df-6a12485a-fb9d-419f-aa5e-7f842073c728')\"\n",
       "            title=\"Suggest charts\"\n",
       "            style=\"display:none;\">\n",
       "\n",
       "<svg xmlns=\"http://www.w3.org/2000/svg\" height=\"24px\"viewBox=\"0 0 24 24\"\n",
       "     width=\"24px\">\n",
       "    <g>\n",
       "        <path d=\"M19 3H5c-1.1 0-2 .9-2 2v14c0 1.1.9 2 2 2h14c1.1 0 2-.9 2-2V5c0-1.1-.9-2-2-2zM9 17H7v-7h2v7zm4 0h-2V7h2v10zm4 0h-2v-4h2v4z\"/>\n",
       "    </g>\n",
       "</svg>\n",
       "  </button>\n",
       "\n",
       "<style>\n",
       "  .colab-df-quickchart {\n",
       "      --bg-color: #E8F0FE;\n",
       "      --fill-color: #1967D2;\n",
       "      --hover-bg-color: #E2EBFA;\n",
       "      --hover-fill-color: #174EA6;\n",
       "      --disabled-fill-color: #AAA;\n",
       "      --disabled-bg-color: #DDD;\n",
       "  }\n",
       "\n",
       "  [theme=dark] .colab-df-quickchart {\n",
       "      --bg-color: #3B4455;\n",
       "      --fill-color: #D2E3FC;\n",
       "      --hover-bg-color: #434B5C;\n",
       "      --hover-fill-color: #FFFFFF;\n",
       "      --disabled-bg-color: #3B4455;\n",
       "      --disabled-fill-color: #666;\n",
       "  }\n",
       "\n",
       "  .colab-df-quickchart {\n",
       "    background-color: var(--bg-color);\n",
       "    border: none;\n",
       "    border-radius: 50%;\n",
       "    cursor: pointer;\n",
       "    display: none;\n",
       "    fill: var(--fill-color);\n",
       "    height: 32px;\n",
       "    padding: 0;\n",
       "    width: 32px;\n",
       "  }\n",
       "\n",
       "  .colab-df-quickchart:hover {\n",
       "    background-color: var(--hover-bg-color);\n",
       "    box-shadow: 0 1px 2px rgba(60, 64, 67, 0.3), 0 1px 3px 1px rgba(60, 64, 67, 0.15);\n",
       "    fill: var(--button-hover-fill-color);\n",
       "  }\n",
       "\n",
       "  .colab-df-quickchart-complete:disabled,\n",
       "  .colab-df-quickchart-complete:disabled:hover {\n",
       "    background-color: var(--disabled-bg-color);\n",
       "    fill: var(--disabled-fill-color);\n",
       "    box-shadow: none;\n",
       "  }\n",
       "\n",
       "  .colab-df-spinner {\n",
       "    border: 2px solid var(--fill-color);\n",
       "    border-color: transparent;\n",
       "    border-bottom-color: var(--fill-color);\n",
       "    animation:\n",
       "      spin 1s steps(1) infinite;\n",
       "  }\n",
       "\n",
       "  @keyframes spin {\n",
       "    0% {\n",
       "      border-color: transparent;\n",
       "      border-bottom-color: var(--fill-color);\n",
       "      border-left-color: var(--fill-color);\n",
       "    }\n",
       "    20% {\n",
       "      border-color: transparent;\n",
       "      border-left-color: var(--fill-color);\n",
       "      border-top-color: var(--fill-color);\n",
       "    }\n",
       "    30% {\n",
       "      border-color: transparent;\n",
       "      border-left-color: var(--fill-color);\n",
       "      border-top-color: var(--fill-color);\n",
       "      border-right-color: var(--fill-color);\n",
       "    }\n",
       "    40% {\n",
       "      border-color: transparent;\n",
       "      border-right-color: var(--fill-color);\n",
       "      border-top-color: var(--fill-color);\n",
       "    }\n",
       "    60% {\n",
       "      border-color: transparent;\n",
       "      border-right-color: var(--fill-color);\n",
       "    }\n",
       "    80% {\n",
       "      border-color: transparent;\n",
       "      border-right-color: var(--fill-color);\n",
       "      border-bottom-color: var(--fill-color);\n",
       "    }\n",
       "    90% {\n",
       "      border-color: transparent;\n",
       "      border-bottom-color: var(--fill-color);\n",
       "    }\n",
       "  }\n",
       "</style>\n",
       "\n",
       "  <script>\n",
       "    async function quickchart(key) {\n",
       "      const quickchartButtonEl =\n",
       "        document.querySelector('#' + key + ' button');\n",
       "      quickchartButtonEl.disabled = true;  // To prevent multiple clicks.\n",
       "      quickchartButtonEl.classList.add('colab-df-spinner');\n",
       "      try {\n",
       "        const charts = await google.colab.kernel.invokeFunction(\n",
       "            'suggestCharts', [key], {});\n",
       "      } catch (error) {\n",
       "        console.error('Error during call to suggestCharts:', error);\n",
       "      }\n",
       "      quickchartButtonEl.classList.remove('colab-df-spinner');\n",
       "      quickchartButtonEl.classList.add('colab-df-quickchart-complete');\n",
       "    }\n",
       "    (() => {\n",
       "      let quickchartButtonEl =\n",
       "        document.querySelector('#df-6a12485a-fb9d-419f-aa5e-7f842073c728 button');\n",
       "      quickchartButtonEl.style.display =\n",
       "        google.colab.kernel.accessAllowed ? 'block' : 'none';\n",
       "    })();\n",
       "  </script>\n",
       "</div>\n",
       "\n",
       "    </div>\n",
       "  </div>\n"
      ],
      "text/plain": [
       "                                                                                                                                                                                                     tweet  \\\n",
       "0                                                                coronavirus latest:drivers in #nj, around country still seeing gas prices drop amid covid- - mar 21 @ 10:28 am et https://t.co/zxlzvhbyvw   \n",
       "1  itâs a difficult time for everyone at the moment but please do not stockpile and panic buy.. if you just buy what you need as normal there will be plenty of food and essential supplies for everyo...   \n",
       "2                    or buy gift certificates for others who may be in self-quarantine. a little online shopping will pass the time and keep local businesses alive. plus, more books! #coronavirus #books   \n",
       "3                                                                    \"la rental prices fall for the first time in a decade.\"\\r\\r\\n#coronavirus #realestate #investment \\r\\r\\n\\r\\r\\nhttps://t.co/1hniyhoooa   \n",
       "4                                                                                                covid-19 coronavirus: rotorua shoppers wear beekeeping suits to supermarket ????? https://t.co/qfpj5kzn1p   \n",
       "\n",
       "            sentiment  \n",
       "0            negative  \n",
       "1  extremely positive  \n",
       "2  extremely positive  \n",
       "3             neutral  \n",
       "4             neutral  "
      ]
     },
     "execution_count": 7,
     "metadata": {},
     "output_type": "execute_result"
    }
   ],
   "source": [
    "# Download and load the dataset\n",
    "URL = kagglehub.dataset_download(\"datatattle/covid-19-nlp-text-classification\")\n",
    "df = download_dataset(URL)\n",
    "\n",
    "# Preprocess the data\n",
    "df = df.rename(columns=str.lower)\n",
    "df = df[[\"originaltweet\", \"sentiment\"]]\n",
    "df = df.rename(columns={\"originaltweet\": \"tweet\"})\n",
    "df = df.astype(str)\n",
    "for c in df.columns:\n",
    "    df[c] = df[c].str.lower()\n",
    "df = df.sample(frac=1, random_state=43).reset_index(drop=True)\n",
    "\n",
    "df.head()"
   ]
  },
  {
   "cell_type": "markdown",
   "metadata": {
    "id": "OOhYpdvDKoul"
   },
   "source": [
    "#### **Data Overview**"
   ]
  },
  {
   "cell_type": "code",
   "execution_count": null,
   "metadata": {
    "colab": {
     "base_uri": "https://localhost:8080/"
    },
    "executionInfo": {
     "elapsed": 819,
     "status": "ok",
     "timestamp": 1735698323336,
     "user": {
      "displayName": "Nhlanhla Baloyi",
      "userId": "18181450686318463916"
     },
     "user_tz": -120
    },
    "id": "imjCSUPGKt_E",
    "outputId": "03cc67c5-7b42-4da5-b16e-ecb1627ae850"
   },
   "outputs": [
    {
     "name": "stdout",
     "output_type": "stream",
     "text": [
      "Dimension:  (44955, 2)\n"
     ]
    }
   ],
   "source": [
    "# Data dimension\n",
    "print(\"Dimension: \", df.shape)"
   ]
  },
  {
   "cell_type": "code",
   "execution_count": 10,
   "metadata": {
    "colab": {
     "base_uri": "https://localhost:8080/"
    },
    "executionInfo": {
     "elapsed": 7,
     "status": "ok",
     "timestamp": 1735698323989,
     "user": {
      "displayName": "Nhlanhla Baloyi",
      "userId": "18181450686318463916"
     },
     "user_tz": -120
    },
    "id": "-tb9Del9KzUE",
    "outputId": "ea46b810-0340-42b5-9edf-b5f909c3bb81"
   },
   "outputs": [
    {
     "name": "stdout",
     "output_type": "stream",
     "text": [
      "<class 'pandas.core.frame.DataFrame'>\n",
      "RangeIndex: 44955 entries, 0 to 44954\n",
      "Data columns (total 2 columns):\n",
      " #   Column     Non-Null Count  Dtype \n",
      "---  ------     --------------  ----- \n",
      " 0   tweet      44955 non-null  object\n",
      " 1   sentiment  44955 non-null  object\n",
      "dtypes: object(2)\n",
      "memory usage: 702.5+ KB\n"
     ]
    }
   ],
   "source": [
    "# Data Information\n",
    "df.info()"
   ]
  },
  {
   "cell_type": "code",
   "execution_count": 11,
   "metadata": {
    "colab": {
     "base_uri": "https://localhost:8080/"
    },
    "executionInfo": {
     "elapsed": 7,
     "status": "ok",
     "timestamp": 1735698324579,
     "user": {
      "displayName": "Nhlanhla Baloyi",
      "userId": "18181450686318463916"
     },
     "user_tz": -120
    },
    "id": "Z5xus6uHKzKW",
    "outputId": "73e04a94-1181-4aa9-fd63-4dffb8f0c2e9"
   },
   "outputs": [
    {
     "name": "stdout",
     "output_type": "stream",
     "text": [
      "\n",
      "Number of missing values:\n",
      "tweet        0\n",
      "sentiment    0\n",
      "dtype: int64\n",
      "\n",
      "Number of duplicated values:\n",
      "2\n"
     ]
    }
   ],
   "source": [
    "# Missing and Duplicates\n",
    "print(\"\\nNumber of missing values:\")\n",
    "print(df.isna().sum())\n",
    "\n",
    "print(\"\\nNumber of duplicated values:\")\n",
    "print(df.duplicated().sum())"
   ]
  },
  {
   "cell_type": "code",
   "execution_count": 22,
   "metadata": {
    "colab": {
     "base_uri": "https://localhost:8080/",
     "height": 407
    },
    "executionInfo": {
     "elapsed": 855,
     "status": "ok",
     "timestamp": 1735698982830,
     "user": {
      "displayName": "Nhlanhla Baloyi",
      "userId": "18181450686318463916"
     },
     "user_tz": -120
    },
    "id": "b45u_JOlLMR3",
    "outputId": "fe00637c-529c-4fe0-88de-46bea77ebb3e"
   },
   "outputs": [
    {
     "data": {
      "image/png": "[encoded data removed]",
      "text/plain": [
       "<Figure size 1000x400 with 1 Axes>"
      ]
     },
     "metadata": {},
     "output_type": "display_data"
    }
   ],
   "source": [
    "# Plot sentiment distributions\n",
    "def plot_sentiment_dist(df: pd.DataFrame, palette=\"colorblind\") -> None:\n",
    "\n",
    "    sentiment_df = df[\"sentiment\"].value_counts().reset_index(name=\"size\")\n",
    "\n",
    "    _, ax = plt.subplots(figsize=(10, 4))\n",
    "    plt.style.use(\"ggplot\")\n",
    "\n",
    "    sns.barplot(\n",
    "        sentiment_df, x=\"sentiment\", y=\"size\", hue=\"sentiment\", palette=palette, gap=0.5, ax=ax\n",
    "    )\n",
    "\n",
    "    # Axis Labels and Title\n",
    "    ax.set_title(\"Consolidated Sentiment Distribution\", fontsize=12, alpha=0.8)\n",
    "    ax.set_ylabel(\"Count\", fontsize=12)\n",
    "    ax.set_xlabel(\"\")\n",
    "    plt.xticks(rotation=45)\n",
    "\n",
    "    ax.grid(axis=\"y\", linestyle=\"--\", alpha=0.7)\n",
    "\n",
    "    plt.tight_layout()\n",
    "    plt.show()\n",
    "\n",
    "# All sentiments included\n",
    "plot_sentiment_dist(df)"
   ]
  },
  {
   "cell_type": "code",
   "execution_count": 23,
   "metadata": {
    "executionInfo": {
     "elapsed": 565,
     "status": "ok",
     "timestamp": 1735698997295,
     "user": {
      "displayName": "Nhlanhla Baloyi",
      "userId": "18181450686318463916"
     },
     "user_tz": -120
    },
    "id": "2_NSp2EBrl5O"
   },
   "outputs": [],
   "source": [
    "# Consolidate negative and postive sentiments\n",
    "\n",
    "def consolidate_sentiment(sentiment: str) -> str:\n",
    "    if sentiment == \"extremely positive\":\n",
    "        return \"positive\"\n",
    "    elif sentiment == \"extremely negative\":\n",
    "        return \"negative\"\n",
    "    return sentiment\n",
    "\n",
    "data = df.copy()\n",
    "\n",
    "data[\"sentiment\"] = data[\"sentiment\"].apply(consolidate_sentiment)"
   ]
  },
  {
   "cell_type": "code",
   "execution_count": 24,
   "metadata": {
    "colab": {
     "base_uri": "https://localhost:8080/",
     "height": 407
    },
    "executionInfo": {
     "elapsed": 733,
     "status": "ok",
     "timestamp": 1735699025798,
     "user": {
      "displayName": "Nhlanhla Baloyi",
      "userId": "18181450686318463916"
     },
     "user_tz": -120
    },
    "id": "XlmHcBqLtYYv",
    "outputId": "7d4a7341-6fff-4a2a-fcd6-c81b0aeddaa4"
   },
   "outputs": [
    {
     "data": {
      "image/png": "[encoded data removed]",
      "text/plain": [
       "<Figure size 1000x400 with 1 Axes>"
      ]
     },
     "metadata": {},
     "output_type": "display_data"
    }
   ],
   "source": [
    "# consolidated\n",
    "plot_sentiment_dist(data, \"viridis\")"
   ]
  },
  {
   "cell_type": "markdown",
   "metadata": {
    "id": "YUTc-27yK90U"
   },
   "source": [
    "#### **Data Processing & Cleaning**"
   ]
  },
  {
   "cell_type": "code",
   "execution_count": null,
   "metadata": {
    "executionInfo": {
     "elapsed": 2463,
     "status": "ok",
     "timestamp": 1735699045546,
     "user": {
      "displayName": "Nhlanhla Baloyi",
      "userId": "18181450686318463916"
     },
     "user_tz": -120
    },
    "id": "5cih0AQA-UWt"
   },
   "outputs": [],
   "source": [
    "import re\n",
    "import nltk\n",
    "import string\n",
    "import contractions\n",
    "from nltk import word_tokenize, pos_tag\n",
    "from nltk.corpus import stopwords\n",
    "from nltk.stem.wordnet import WordNetLemmatizer"
   ]
  },
  {
   "cell_type": "code",
   "execution_count": 26,
   "metadata": {
    "colab": {
     "base_uri": "https://localhost:8080/"
    },
    "executionInfo": {
     "elapsed": 6084,
     "status": "ok",
     "timestamp": 1735699051628,
     "user": {
      "displayName": "Nhlanhla Baloyi",
      "userId": "18181450686318463916"
     },
     "user_tz": -120
    },
    "id": "18uAa19SA_ag",
    "outputId": "bd95ea8f-1ce9-4f32-999a-7ccf3ed45a44"
   },
   "outputs": [
    {
     "data": {
      "text/plain": [
       "True"
      ]
     },
     "execution_count": 26,
     "metadata": {},
     "output_type": "execute_result"
    }
   ],
   "source": [
    "# Download NLTK resources\n",
    "nltk.download(\"popular\", quiet=True)\n",
    "nltk.download('punkt_tab', quiet=True)\n",
    "nltk.download('averaged_perceptron_tagger_eng', quiet=True)"
   ]
  },
  {
   "cell_type": "code",
   "execution_count": 49,
   "metadata": {},
   "outputs": [
    {
     "ename": "NameError",
     "evalue": "name 'stopwords' is not defined",
     "output_type": "error",
     "traceback": [
      "\u001b[1;31m---------------------------------------------------------------------------\u001b[0m",
      "\u001b[1;31mNameError\u001b[0m                                 Traceback (most recent call last)",
      "Cell \u001b[1;32mIn[49], line 3\u001b[0m\n\u001b[0;32m      1\u001b[0m \u001b[38;5;66;03m# Define Stopwords\u001b[39;00m\n\u001b[0;32m      2\u001b[0m covid_19_stopwords \u001b[38;5;241m=\u001b[39m [\u001b[38;5;124m\"\u001b[39m\u001b[38;5;124mcovid\u001b[39m\u001b[38;5;124m\"\u001b[39m, \u001b[38;5;124m\"\u001b[39m\u001b[38;5;124mcoronavirus\u001b[39m\u001b[38;5;124m\"\u001b[39m, \u001b[38;5;124m\"\u001b[39m\u001b[38;5;124mpandemic\u001b[39m\u001b[38;5;124m\"\u001b[39m, \u001b[38;5;124m\"\u001b[39m\u001b[38;5;124mvirus\u001b[39m\u001b[38;5;124m\"\u001b[39m, \u001b[38;5;124m\"\u001b[39m\u001b[38;5;124mlockdown\u001b[39m\u001b[38;5;124m\"\u001b[39m, \u001b[38;5;124m\"\u001b[39m\u001b[38;5;124mquarantine\u001b[39m\u001b[38;5;124m\"\u001b[39m, \u001b[38;5;124m\"\u001b[39m\u001b[38;5;124mvaccine\u001b[39m\u001b[38;5;124m\"\u001b[39m]\n\u001b[1;32m----> 3\u001b[0m custom_stopwords \u001b[38;5;241m=\u001b[39m covid_19_stopwords \u001b[38;5;241m+\u001b[39m \u001b[43mstopwords\u001b[49m\u001b[38;5;241m.\u001b[39mwords()\n\u001b[0;32m      5\u001b[0m \u001b[38;5;66;03m# Lemmatizer\u001b[39;00m\n\u001b[0;32m      6\u001b[0m lemma \u001b[38;5;241m=\u001b[39m WordNetLemmatizer()\n",
      "\u001b[1;31mNameError\u001b[0m: name 'stopwords' is not defined"
     ]
    }
   ],
   "source": [
    "# Define Stopwords\n",
    "covid_19_stopwords = [\"covid\", \"coronavirus\", \"pandemic\", \"virus\", \"lockdown\", \"quarantine\", \"vaccine\"]\n",
    "custom_stopwords = covid_19_stopwords + stopwords.words()\n",
    "\n",
    "# Lemmatizer\n",
    "lemma = WordNetLemmatizer()\n",
    "\n",
    "def preprocess_text(df: pd.DataFrame) -> pd.DataFrame:\n",
    "\n",
    "    data = df.copy()\n",
    "\n",
    "    # Clean the text\n",
    "    data['text'] = data['tweet'].str.lower()\n",
    "    data['text'] = data['text'].apply(contractions.fix)\n",
    "    data['text'] = data['text'].str.replace(r'https:\\W.+','', regex=True)\n",
    "    data['text'] = data['text'].str.replace(r'@\\w+|&\\w+','', regex=True)\n",
    "    data['text'] = data['text'].str.replace(r'[%s]'%re.escape(string.punctuation),' ', regex=True)\n",
    "    data['text'] = data['text'].str.replace(r'\\d+\\w+','', regex=True)\n",
    "\n",
    "    # Tokenize and preprocess\n",
    "    data['text'] = data['text'].apply(word_tokenize)\n",
    "    data['text'] = data['text'].apply(lambda tokens: [lemma.lemmatize(word) for word in tokens])\n",
    "    data['text'] = data['text'].str.join(\" \")\n",
    "\n",
    "    # Handle encoding and decoding issues\n",
    "    data['text'] = data['text'].apply(lambda s: s.encode('ascii', 'ignore'))\n",
    "    data['text'] = data['text'].apply(lambda s: s.decode('utf-8'))\n",
    "\n",
    "    # Remove stopwords (and potentially filter short words)\n",
    "    data['text'] = data['text'].apply(lambda text: [word for word in text.split() if word not in custom_stopwords and len(word) > 2])\n",
    "    data['text'] = data['text'].str.join(\" \")\n",
    "    return data[['tweet', 'text', 'sentiment']]"
   ]
  },
  {
   "cell_type": "code",
   "execution_count": 28,
   "metadata": {
    "colab": {
     "base_uri": "https://localhost:8080/",
     "height": 258
    },
    "executionInfo": {
     "elapsed": 171538,
     "status": "ok",
     "timestamp": 1735699311793,
     "user": {
      "displayName": "Nhlanhla Baloyi",
      "userId": "18181450686318463916"
     },
     "user_tz": -120
    },
    "id": "laCTOEYU9O5l",
    "outputId": "34d4d592-86e3-4dda-8df4-361ca9c410d7"
   },
   "outputs": [
    {
     "data": {
      "application/vnd.google.colaboratory.intrinsic+json": {
       "summary": "{\n  \"name\": \"dataframe\",\n  \"rows\": 44665,\n  \"fields\": [\n    {\n      \"column\": \"tweet\",\n      \"properties\": {\n        \"dtype\": \"string\",\n        \"num_unique_values\": 44665,\n        \"samples\": [\n          \"@susannareid100 @gmb  susanna can you #askdrh since they haven't responded to my tweets. \\r\\r\\nhow is it ok going into a fast food restaurant/ supermarket queuing up than sitting in a restaurant? (cinema/theatre)where you could control,a safe distance an num\",\n          \"today s environment suggests that success requires an understanding of business basics as well as direct to consumer business model leaders must adapt and implement new principles learn about these tendencies suggested by hbr\",\n          \"when you are called to help you make a shift and that is the detroit way says michael forsyth co owner of which is making sanitizer in response to the pandemic\"\n        ],\n        \"semantic_type\": \"\",\n        \"description\": \"\"\n      }\n    },\n    {\n      \"column\": \"text\",\n      \"properties\": {\n        \"dtype\": \"string\",\n        \"num_unique_values\": 43992,\n        \"samples\": [\n          \"putting hour shift facing empty supermarket shelf risking life wait saveournurses ppe nhsheroes coronavirusupdate coronacrisis\",\n          \"fact grandma wheelchair online weekly shopping delivered week bulk buying shit shopping delivered infuriates considerate elderly\",\n          \"currentstatus receiving live update neighbour currently supermarket queue socialdistancing lockdownuk thankful shopping\"\n        ],\n        \"semantic_type\": \"\",\n        \"description\": \"\"\n      }\n    },\n    {\n      \"column\": \"sentiment\",\n      \"properties\": {\n        \"dtype\": \"category\",\n        \"num_unique_values\": 3,\n        \"samples\": [\n          \"negative\",\n          \"positive\",\n          \"neutral\"\n        ],\n        \"semantic_type\": \"\",\n        \"description\": \"\"\n      }\n    }\n  ]\n}",
       "type": "dataframe",
       "variable_name": "dataframe"
      },
      "text/html": [
       "\n",
       "  <div id=\"df-a634b663-3b92-4203-a9c2-5da57cc9b5e4\" class=\"colab-df-container\">\n",
       "    <div>\n",
       "<style scoped>\n",
       "    .dataframe tbody tr th:only-of-type {\n",
       "        vertical-align: middle;\n",
       "    }\n",
       "\n",
       "    .dataframe tbody tr th {\n",
       "        vertical-align: top;\n",
       "    }\n",
       "\n",
       "    .dataframe thead th {\n",
       "        text-align: right;\n",
       "    }\n",
       "</style>\n",
       "<table border=\"1\" class=\"dataframe\">\n",
       "  <thead>\n",
       "    <tr style=\"text-align: right;\">\n",
       "      <th></th>\n",
       "      <th>tweet</th>\n",
       "      <th>text</th>\n",
       "      <th>sentiment</th>\n",
       "    </tr>\n",
       "  </thead>\n",
       "  <tbody>\n",
       "    <tr>\n",
       "      <th>0</th>\n",
       "      <td>coronavirus latest:drivers in #nj, around country still seeing gas prices drop amid covid- - mar 21 @ 10:28 am et https://t.co/zxlzvhbyvw</td>\n",
       "      <td>latest driver country gas price drop amid</td>\n",
       "      <td>negative</td>\n",
       "    </tr>\n",
       "    <tr>\n",
       "      <th>1</th>\n",
       "      <td>itâs a difficult time for everyone at the moment but please do not stockpile and panic buy.. if you just buy what you need as normal there will be plenty of food and essential supplies for everyo...</td>\n",
       "      <td>difficult time moment stockpile panic buy buy normal plenty food essential supply thinkofothers especially elderly dontbeselfish</td>\n",
       "      <td>positive</td>\n",
       "    </tr>\n",
       "    <tr>\n",
       "      <th>2</th>\n",
       "      <td>or buy gift certificates for others who may be in self-quarantine. a little online shopping will pass the time and keep local businesses alive. plus, more books! #coronavirus #books</td>\n",
       "      <td>buy gift certificate online shopping time local business alive book book</td>\n",
       "      <td>positive</td>\n",
       "    </tr>\n",
       "    <tr>\n",
       "      <th>3</th>\n",
       "      <td>\"la rental prices fall for the first time in a decade.\"\\r\\r\\n#coronavirus #realestate #investment \\r\\r\\n\\r\\r\\nhttps://t.co/1hniyhoooa</td>\n",
       "      <td>rental price fall time decade realestate investment</td>\n",
       "      <td>neutral</td>\n",
       "    </tr>\n",
       "    <tr>\n",
       "      <th>4</th>\n",
       "      <td>covid-19 coronavirus: rotorua shoppers wear beekeeping suits to supermarket ????? https://t.co/qfpj5kzn1p</td>\n",
       "      <td>rotorua shopper wear beekeeping suit supermarket</td>\n",
       "      <td>neutral</td>\n",
       "    </tr>\n",
       "  </tbody>\n",
       "</table>\n",
       "</div>\n",
       "    <div class=\"colab-df-buttons\">\n",
       "\n",
       "  <div class=\"colab-df-container\">\n",
       "    <button class=\"colab-df-convert\" onclick=\"convertToInteractive('df-a634b663-3b92-4203-a9c2-5da57cc9b5e4')\"\n",
       "            title=\"Convert this dataframe to an interactive table.\"\n",
       "            style=\"display:none;\">\n",
       "\n",
       "  <svg xmlns=\"http://www.w3.org/2000/svg\" height=\"24px\" viewBox=\"0 -960 960 960\">\n",
       "    <path d=\"M120-120v-720h720v720H120Zm60-500h600v-160H180v160Zm220 220h160v-160H400v160Zm0 220h160v-160H400v160ZM180-400h160v-160H180v160Zm440 0h160v-160H620v160ZM180-180h160v-160H180v160Zm440 0h160v-160H620v160Z\"/>\n",
       "  </svg>\n",
       "    </button>\n",
       "\n",
       "  <style>\n",
       "    .colab-df-container {\n",
       "      display:flex;\n",
       "      gap: 12px;\n",
       "    }\n",
       "\n",
       "    .colab-df-convert {\n",
       "      background-color: #E8F0FE;\n",
       "      border: none;\n",
       "      border-radius: 50%;\n",
       "      cursor: pointer;\n",
       "      display: none;\n",
       "      fill: #1967D2;\n",
       "      height: 32px;\n",
       "      padding: 0 0 0 0;\n",
       "      width: 32px;\n",
       "    }\n",
       "\n",
       "    .colab-df-convert:hover {\n",
       "      background-color: #E2EBFA;\n",
       "      box-shadow: 0px 1px 2px rgba(60, 64, 67, 0.3), 0px 1px 3px 1px rgba(60, 64, 67, 0.15);\n",
       "      fill: #174EA6;\n",
       "    }\n",
       "\n",
       "    .colab-df-buttons div {\n",
       "      margin-bottom: 4px;\n",
       "    }\n",
       "\n",
       "    [theme=dark] .colab-df-convert {\n",
       "      background-color: #3B4455;\n",
       "      fill: #D2E3FC;\n",
       "    }\n",
       "\n",
       "    [theme=dark] .colab-df-convert:hover {\n",
       "      background-color: #434B5C;\n",
       "      box-shadow: 0px 1px 3px 1px rgba(0, 0, 0, 0.15);\n",
       "      filter: drop-shadow(0px 1px 2px rgba(0, 0, 0, 0.3));\n",
       "      fill: #FFFFFF;\n",
       "    }\n",
       "  </style>\n",
       "\n",
       "    <script>\n",
       "      const buttonEl =\n",
       "        document.querySelector('#df-a634b663-3b92-4203-a9c2-5da57cc9b5e4 button.colab-df-convert');\n",
       "      buttonEl.style.display =\n",
       "        google.colab.kernel.accessAllowed ? 'block' : 'none';\n",
       "\n",
       "      async function convertToInteractive(key) {\n",
       "        const element = document.querySelector('#df-a634b663-3b92-4203-a9c2-5da57cc9b5e4');\n",
       "        const dataTable =\n",
       "          await google.colab.kernel.invokeFunction('convertToInteractive',\n",
       "                                                    [key], {});\n",
       "        if (!dataTable) return;\n",
       "\n",
       "        const docLinkHtml = 'Like what you see? Visit the ' +\n",
       "          '<a target=\"_blank\" href=https://colab.research.google.com/notebooks/data_table.ipynb>data table notebook</a>'\n",
       "          + ' to learn more about interactive tables.';\n",
       "        element.innerHTML = '';\n",
       "        dataTable['output_type'] = 'display_data';\n",
       "        await google.colab.output.renderOutput(dataTable, element);\n",
       "        const docLink = document.createElement('div');\n",
       "        docLink.innerHTML = docLinkHtml;\n",
       "        element.appendChild(docLink);\n",
       "      }\n",
       "    </script>\n",
       "  </div>\n",
       "\n",
       "\n",
       "<div id=\"df-d4cb2916-b3fe-4b8c-baf0-2de26418b8a2\">\n",
       "  <button class=\"colab-df-quickchart\" onclick=\"quickchart('df-d4cb2916-b3fe-4b8c-baf0-2de26418b8a2')\"\n",
       "            title=\"Suggest charts\"\n",
       "            style=\"display:none;\">\n",
       "\n",
       "<svg xmlns=\"http://www.w3.org/2000/svg\" height=\"24px\"viewBox=\"0 0 24 24\"\n",
       "     width=\"24px\">\n",
       "    <g>\n",
       "        <path d=\"M19 3H5c-1.1 0-2 .9-2 2v14c0 1.1.9 2 2 2h14c1.1 0 2-.9 2-2V5c0-1.1-.9-2-2-2zM9 17H7v-7h2v7zm4 0h-2V7h2v10zm4 0h-2v-4h2v4z\"/>\n",
       "    </g>\n",
       "</svg>\n",
       "  </button>\n",
       "\n",
       "<style>\n",
       "  .colab-df-quickchart {\n",
       "      --bg-color: #E8F0FE;\n",
       "      --fill-color: #1967D2;\n",
       "      --hover-bg-color: #E2EBFA;\n",
       "      --hover-fill-color: #174EA6;\n",
       "      --disabled-fill-color: #AAA;\n",
       "      --disabled-bg-color: #DDD;\n",
       "  }\n",
       "\n",
       "  [theme=dark] .colab-df-quickchart {\n",
       "      --bg-color: #3B4455;\n",
       "      --fill-color: #D2E3FC;\n",
       "      --hover-bg-color: #434B5C;\n",
       "      --hover-fill-color: #FFFFFF;\n",
       "      --disabled-bg-color: #3B4455;\n",
       "      --disabled-fill-color: #666;\n",
       "  }\n",
       "\n",
       "  .colab-df-quickchart {\n",
       "    background-color: var(--bg-color);\n",
       "    border: none;\n",
       "    border-radius: 50%;\n",
       "    cursor: pointer;\n",
       "    display: none;\n",
       "    fill: var(--fill-color);\n",
       "    height: 32px;\n",
       "    padding: 0;\n",
       "    width: 32px;\n",
       "  }\n",
       "\n",
       "  .colab-df-quickchart:hover {\n",
       "    background-color: var(--hover-bg-color);\n",
       "    box-shadow: 0 1px 2px rgba(60, 64, 67, 0.3), 0 1px 3px 1px rgba(60, 64, 67, 0.15);\n",
       "    fill: var(--button-hover-fill-color);\n",
       "  }\n",
       "\n",
       "  .colab-df-quickchart-complete:disabled,\n",
       "  .colab-df-quickchart-complete:disabled:hover {\n",
       "    background-color: var(--disabled-bg-color);\n",
       "    fill: var(--disabled-fill-color);\n",
       "    box-shadow: none;\n",
       "  }\n",
       "\n",
       "  .colab-df-spinner {\n",
       "    border: 2px solid var(--fill-color);\n",
       "    border-color: transparent;\n",
       "    border-bottom-color: var(--fill-color);\n",
       "    animation:\n",
       "      spin 1s steps(1) infinite;\n",
       "  }\n",
       "\n",
       "  @keyframes spin {\n",
       "    0% {\n",
       "      border-color: transparent;\n",
       "      border-bottom-color: var(--fill-color);\n",
       "      border-left-color: var(--fill-color);\n",
       "    }\n",
       "    20% {\n",
       "      border-color: transparent;\n",
       "      border-left-color: var(--fill-color);\n",
       "      border-top-color: var(--fill-color);\n",
       "    }\n",
       "    30% {\n",
       "      border-color: transparent;\n",
       "      border-left-color: var(--fill-color);\n",
       "      border-top-color: var(--fill-color);\n",
       "      border-right-color: var(--fill-color);\n",
       "    }\n",
       "    40% {\n",
       "      border-color: transparent;\n",
       "      border-right-color: var(--fill-color);\n",
       "      border-top-color: var(--fill-color);\n",
       "    }\n",
       "    60% {\n",
       "      border-color: transparent;\n",
       "      border-right-color: var(--fill-color);\n",
       "    }\n",
       "    80% {\n",
       "      border-color: transparent;\n",
       "      border-right-color: var(--fill-color);\n",
       "      border-bottom-color: var(--fill-color);\n",
       "    }\n",
       "    90% {\n",
       "      border-color: transparent;\n",
       "      border-bottom-color: var(--fill-color);\n",
       "    }\n",
       "  }\n",
       "</style>\n",
       "\n",
       "  <script>\n",
       "    async function quickchart(key) {\n",
       "      const quickchartButtonEl =\n",
       "        document.querySelector('#' + key + ' button');\n",
       "      quickchartButtonEl.disabled = true;  // To prevent multiple clicks.\n",
       "      quickchartButtonEl.classList.add('colab-df-spinner');\n",
       "      try {\n",
       "        const charts = await google.colab.kernel.invokeFunction(\n",
       "            'suggestCharts', [key], {});\n",
       "      } catch (error) {\n",
       "        console.error('Error during call to suggestCharts:', error);\n",
       "      }\n",
       "      quickchartButtonEl.classList.remove('colab-df-spinner');\n",
       "      quickchartButtonEl.classList.add('colab-df-quickchart-complete');\n",
       "    }\n",
       "    (() => {\n",
       "      let quickchartButtonEl =\n",
       "        document.querySelector('#df-d4cb2916-b3fe-4b8c-baf0-2de26418b8a2 button');\n",
       "      quickchartButtonEl.style.display =\n",
       "        google.colab.kernel.accessAllowed ? 'block' : 'none';\n",
       "    })();\n",
       "  </script>\n",
       "</div>\n",
       "\n",
       "    </div>\n",
       "  </div>\n"
      ],
      "text/plain": [
       "                                                                                                                                                                                                     tweet  \\\n",
       "0                                                                coronavirus latest:drivers in #nj, around country still seeing gas prices drop amid covid- - mar 21 @ 10:28 am et https://t.co/zxlzvhbyvw   \n",
       "1  itâs a difficult time for everyone at the moment but please do not stockpile and panic buy.. if you just buy what you need as normal there will be plenty of food and essential supplies for everyo...   \n",
       "2                    or buy gift certificates for others who may be in self-quarantine. a little online shopping will pass the time and keep local businesses alive. plus, more books! #coronavirus #books   \n",
       "3                                                                    \"la rental prices fall for the first time in a decade.\"\\r\\r\\n#coronavirus #realestate #investment \\r\\r\\n\\r\\r\\nhttps://t.co/1hniyhoooa   \n",
       "4                                                                                                covid-19 coronavirus: rotorua shoppers wear beekeeping suits to supermarket ????? https://t.co/qfpj5kzn1p   \n",
       "\n",
       "                                                                                                                               text  \\\n",
       "0                                                                                         latest driver country gas price drop amid   \n",
       "1  difficult time moment stockpile panic buy buy normal plenty food essential supply thinkofothers especially elderly dontbeselfish   \n",
       "2                                                          buy gift certificate online shopping time local business alive book book   \n",
       "3                                                                               rental price fall time decade realestate investment   \n",
       "4                                                                                  rotorua shopper wear beekeeping suit supermarket   \n",
       "\n",
       "  sentiment  \n",
       "0  negative  \n",
       "1  positive  \n",
       "2  positive  \n",
       "3   neutral  \n",
       "4   neutral  "
      ]
     },
     "execution_count": 28,
     "metadata": {},
     "output_type": "execute_result"
    }
   ],
   "source": [
    "# Define Stopwords\n",
    "covid_19_stopwords = [\"covid\", \"coronavirus\", \"pandemic\", \"virus\", \"lockdown\", \"quarantine\", \"vaccine\"]\n",
    "custom_stopwords = covid_19_stopwords + stopwords.words()\n",
    "\n",
    "# Lemmatizer\n",
    "lemma = WordNetLemmatizer()\n",
    "\n",
    "def preprocess_text(df: pd.DataFrame) -> pd.DataFrame:\n",
    "\n",
    "    data = df.copy()\n",
    "\n",
    "    # Clean the text\n",
    "    data['text'] = data['tweet'].str.lower()\n",
    "    data['text'] = data['text'].apply(contractions.fix)\n",
    "    data['text'] = data['text'].str.replace(r'https:\\W.+','', regex=True)\n",
    "    data['text'] = data['text'].str.replace(r'@\\w+|&\\w+','', regex=True)\n",
    "    data['text'] = data['text'].str.replace(r'[%s]'%re.escape(string.punctuation),' ', regex=True)\n",
    "    data['text'] = data['text'].str.replace(r'\\d+\\w+','', regex=True)\n",
    "\n",
    "    # Tokenize and preprocess\n",
    "    data['text'] = data['text'].apply(word_tokenize)\n",
    "    data['text'] = data['text'].apply(lambda tokens: [lemma.lemmatize(word) for word in tokens])\n",
    "    data['text'] = data['text'].str.join(\" \")\n",
    "\n",
    "    # Handle encoding and decoding issues\n",
    "    data['text'] = data['text'].apply(lambda s: s.encode('ascii', 'ignore'))\n",
    "    data['text'] = data['text'].apply(lambda s: s.decode('utf-8'))\n",
    "\n",
    "    # Remove stopwords (and potentially filter short words)\n",
    "    data['text'] = data['text'].apply(lambda text: [word for word in text.split() if word not in custom_stopwords and len(word) > 2])\n",
    "    data['text'] = data['text'].str.join(\" \")\n",
    "    return data[['tweet', 'text', 'sentiment']]\n",
    "\n",
    "# Processed DataSet\n",
    "dataframe = preprocess_text(data)\n",
    "dataframe = (\n",
    "    dataframe[~(dataframe.text.str.split()\n",
    "    .apply(lambda s: len(s)) < 2)]\n",
    "    .dropna().drop_duplicates()\n",
    "    .reset_index(drop=True)\n",
    ")\n",
    "\n",
    "dataframe.head()"
   ]
  },
  {
   "cell_type": "markdown",
   "metadata": {
    "id": "ne5iZCoAY5Bk"
   },
   "source": [
    "#### **Save Processed Data**"
   ]
  },
  {
   "cell_type": "code",
   "execution_count": 33,
   "metadata": {
    "colab": {
     "base_uri": "https://localhost:8080/"
    },
    "executionInfo": {
     "elapsed": 630,
     "status": "ok",
     "timestamp": 1735699431582,
     "user": {
      "displayName": "Nhlanhla Baloyi",
      "userId": "18181450686318463916"
     },
     "user_tz": -120
    },
    "id": "QswHLkZdY4qa",
    "outputId": "e9ac6809-4dcb-412c-f917-550922f76c19"
   },
   "outputs": [
    {
     "name": "stdout",
     "output_type": "stream",
     "text": [
      "Folder 'data/processed' already exists.\n"
     ]
    }
   ],
   "source": [
    "%%bash\n",
    "# Create processed folder only if it does not exist in the folder tree.\n",
    "FILE_DIR=\"data/processed\"\n",
    "\n",
    "if [[ ! -d \"$FILE_DIR\" ]]; then\n",
    "    echo \"Create '$FILE_DIR' folder ...\"\n",
    "    mkdir -p \"${FILE_DIR}\"\n",
    "else\n",
    "    echo \"Folder '$FILE_DIR' already exists.\"\n",
    "fi"
   ]
  },
  {
   "cell_type": "code",
   "execution_count": 32,
   "metadata": {
    "executionInfo": {
     "elapsed": 349,
     "status": "ok",
     "timestamp": 1735699423213,
     "user": {
      "displayName": "Nhlanhla Baloyi",
      "userId": "18181450686318463916"
     },
     "user_tz": -120
    },
    "id": "-NFK27cMyTrk"
   },
   "outputs": [],
   "source": [
    "# !rm -rf data/processed/covid19_tweets.csv"
   ]
  },
  {
   "cell_type": "code",
   "execution_count": 34,
   "metadata": {
    "colab": {
     "base_uri": "https://localhost:8080/"
    },
    "executionInfo": {
     "elapsed": 580,
     "status": "ok",
     "timestamp": 1735699511263,
     "user": {
      "displayName": "Nhlanhla Baloyi",
      "userId": "18181450686318463916"
     },
     "user_tz": -120
    },
    "id": "4G2o6iGnY4iB",
    "outputId": "194db6c6-e1e7-4d0b-b8f8-df9d21b58bdd"
   },
   "outputs": [
    {
     "name": "stdout",
     "output_type": "stream",
     "text": [
      "['description', 'packed-refs', 'HEAD', 'config', 'COMMIT_EDITMSG', 'FETCH_HEAD', 'ORIG_HEAD', 'index', '.gitignore', 'file_log.txt', 'train.sh', 'cleaning.sh', 'prepare.sh', 'set_env.sh', 'utils.py', 'train.pyc', 'leaning.py', 'prepare.py', 'evaluate.py', 'Dockerfile', 'params.yml', 'Jenkinsfile.main', 'Jenkinsfile.unittest', 'notebook_v002.ipynb', 'notebook_v003.ipynb', 'notebook_v001.ipynb', 'README.md']\n"
     ]
    }
   ],
   "source": [
    "# Naming file output\n",
    "FILE_NAME = \"covid19_tweets.csv\"\n",
    "FILE_OUTPUT = os.path.join(\"data/processed\", FILE_NAME)\n",
    "\n",
    "# Log existing files into file_log.txt\n",
    "!find . -maxdepth 2 -type f > file_log.txt\n",
    "\n",
    "# Load existing files into a pyton list\n",
    "with open(\"file_log.txt\", \"r\") as f:\n",
    "    list_files = [file.split(\"/\")[-1].rstrip() for file in f.readlines()]\n",
    "    print(list_files)"
   ]
  },
  {
   "cell_type": "code",
   "execution_count": 35,
   "metadata": {
    "colab": {
     "base_uri": "https://localhost:8080/"
    },
    "executionInfo": {
     "elapsed": 1187,
     "status": "ok",
     "timestamp": 1735699550871,
     "user": {
      "displayName": "Nhlanhla Baloyi",
      "userId": "18181450686318463916"
     },
     "user_tz": -120
    },
    "id": "xDPUxP_OY4X9",
    "outputId": "069c68ef-b50c-487b-c9b6-4ec66c38b30e"
   },
   "outputs": [
    {
     "name": "stdout",
     "output_type": "stream",
     "text": [
      "Saving processed dataset ...\n"
     ]
    }
   ],
   "source": [
    "if FILE_NAME not in list_files:\n",
    "    print(\"Saving processed dataset ...\")\n",
    "    dataframe.to_csv(FILE_OUTPUT, index=False)\n",
    "else:\n",
    "    print(f\"File '{FILE_OUTPUT}' already created.\")"
   ]
  },
  {
   "cell_type": "code",
   "execution_count": 2,
   "metadata": {
    "id": "WdQlLiHL_K-X"
   },
   "outputs": [],
   "source": [
    "data = {\n",
    "    \"vectorizer\": {\n",
    "        \"params\": {\n",
    "            \"ngram_range\": [\n",
    "                1,\n",
    "                1\n",
    "            ],\n",
    "            \"norm\": \"l2\"\n",
    "        },\n",
    "        \"f1_weighted\": 0.5976723779715305,\n",
    "        \"roc_auc_ovo\": 0.7687833765580905\n",
    "    },\n",
    "    \"model\": {\n",
    "        \"params\": {\n",
    "            \"C\": 2.0,\n",
    "            \"max_iter\": 1750,\n",
    "            \"penalty\": \"l2\",\n",
    "            \"solver\": \"saga\"\n",
    "        },\n",
    "        \"f1_weighted\": 0.6116663971952389,\n",
    "        \"roc_auc_ovo\": 0.7714629148080565\n",
    "    }\n",
    "}\n"
   ]
  },
  {
   "cell_type": "code",
   "execution_count": null,
   "metadata": {},
   "outputs": [],
   "source": []
  }
 ],
 "metadata": {
  "colab": {
   "provenance": []
  },
  "kernelspec": {
   "display_name": ".venv",
   "language": "python",
   "name": "python3"
  },
  "language_info": {
   "codemirror_mode": {
    "name": "ipython",
    "version": 3
   },
   "file_extension": ".py",
   "mimetype": "text/x-python",
   "name": "python",
   "nbconvert_exporter": "python",
   "pygments_lexer": "ipython3",
   "version": "3.10.0"
  }
 },
 "nbformat": 4,
 "nbformat_minor": 0
}
